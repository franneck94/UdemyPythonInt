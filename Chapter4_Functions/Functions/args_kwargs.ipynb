{
 "cells": [
  {
   "cell_type": "code",
   "execution_count": 111,
   "metadata": {},
   "outputs": [],
   "source": [
    "from typing import Any\n",
    "from typing import Optional"
   ]
  },
  {
   "cell_type": "code",
   "execution_count": 112,
   "metadata": {},
   "outputs": [],
   "source": [
    "def my_function(a: int, b: int, c: int = 10, d: int = 12, e: int = 13) -> None:\n",
    "    print(f\"a: {a}, b: {b}, c: {c}, d: {d}, e:{e}\")"
   ]
  },
  {
   "cell_type": "code",
   "execution_count": 113,
   "metadata": {},
   "outputs": [
    {
     "name": "stdout",
     "output_type": "stream",
     "text": [
      "a: 1, b: 2, c: 10, d: 12, e:13\n"
     ]
    }
   ],
   "source": [
    "my_function(1, 2)"
   ]
  },
  {
   "cell_type": "markdown",
   "metadata": {},
   "source": [
    "### Positional Arguments"
   ]
  },
  {
   "cell_type": "markdown",
   "metadata": {},
   "source": [
    "*args: variable number of pos. arguments"
   ]
  },
  {
   "cell_type": "code",
   "execution_count": 114,
   "metadata": {},
   "outputs": [],
   "source": [
    "def my_function2(a: Any, b: Any, *args: Any) -> None:\n",
    "    print(*args, type(args))\n",
    "    print(f\"a: {a}, b: {b}, args: {args}\")"
   ]
  },
  {
   "cell_type": "code",
   "execution_count": 115,
   "metadata": {},
   "outputs": [
    {
     "name": "stdout",
     "output_type": "stream",
     "text": [
      "3 4 <class 'tuple'>\n",
      "a: 1, b: 2, args: (3, 4)\n",
      "3 <class 'tuple'>\n",
      "a: 1, b: 2, args: (3,)\n",
      "<class 'tuple'>\n",
      "a: 1, b: 2, args: ()\n"
     ]
    }
   ],
   "source": [
    "my_function2(1, 2, 3, 4)\n",
    "my_function2(1, 2, 3)\n",
    "my_function2(1, 2)"
   ]
  },
  {
   "cell_type": "code",
   "execution_count": 116,
   "metadata": {},
   "outputs": [],
   "source": [
    "def my_function3(*args: Any) -> None:\n",
    "    print(*args, type(args))\n",
    "    print(f\"args: {args}\")"
   ]
  },
  {
   "cell_type": "code",
   "execution_count": 117,
   "metadata": {},
   "outputs": [
    {
     "name": "stdout",
     "output_type": "stream",
     "text": [
      "1 2 3 4 <class 'tuple'>\n",
      "args: (1, 2, 3, 4)\n"
     ]
    }
   ],
   "source": [
    "my_function3(1, 2, 3, 4)"
   ]
  },
  {
   "cell_type": "markdown",
   "metadata": {},
   "source": [
    "NORMAL ARGS; *ARGS; DEFAULT ARGS"
   ]
  },
  {
   "cell_type": "code",
   "execution_count": 118,
   "metadata": {},
   "outputs": [],
   "source": [
    "def my_function4(a: Any, *args: Any, b: Optional[Any] = None) -> None:\n",
    "    print(*args, type(args))\n",
    "    print(f\"a: {a}, b: {b}, args: {args}\")"
   ]
  },
  {
   "cell_type": "code",
   "execution_count": 124,
   "metadata": {},
   "outputs": [
    {
     "name": "stdout",
     "output_type": "stream",
     "text": [
      "3 4 <class 'tuple'>\n",
      "a: 1, b: None, args: (3, 4)\n"
     ]
    }
   ],
   "source": [
    "my_function4(1, 3, 4)"
   ]
  },
  {
   "cell_type": "markdown",
   "metadata": {},
   "source": [
    "### Keyword Arguments"
   ]
  },
  {
   "cell_type": "markdown",
   "metadata": {},
   "source": [
    "- Normal Args; *Args; Default Args; **Kwargs  \n",
    "- *Args: Tuple  \n",
    "- **Kwargs: Dict  "
   ]
  },
  {
   "cell_type": "code",
   "execution_count": 120,
   "metadata": {},
   "outputs": [],
   "source": [
    "def my_function(\n",
    "    a: Any, *args: Any, x: int = 2, y: int = 3, z: int = 4, **kwargs: Any\n",
    ") -> None:\n",
    "    print(args, type(args))\n",
    "    print(kwargs, type(kwargs))\n",
    "    print(f\"a: {a}, x: {x}, y: {y} , z: {z}\\nargs: {args}\\nkwargs: {kwargs}\")"
   ]
  },
  {
   "cell_type": "code",
   "execution_count": 121,
   "metadata": {},
   "outputs": [
    {
     "name": "stdout",
     "output_type": "stream",
     "text": [
      "(3, 4) <class 'tuple'>\n",
      "{'b': False, 'c': 30, 'd': 40.5} <class 'dict'>\n",
      "a: 1, x: 13.37, y: 3 , z: 4\n",
      "args: (3, 4)\n",
      "kwargs: {'b': False, 'c': 30, 'd': 40.5}\n"
     ]
    }
   ],
   "source": [
    "my_function(1, 3, 4, x=13.37, b=False, c=30, d=40.5)"
   ]
  },
  {
   "cell_type": "code",
   "execution_count": 122,
   "metadata": {},
   "outputs": [],
   "source": [
    "def my_function(*args: Any, **kwargs: Any) -> None:\n",
    "    print(f\"args: {args}\\nkwargs: {kwargs}\")"
   ]
  },
  {
   "cell_type": "code",
   "execution_count": 123,
   "metadata": {},
   "outputs": [
    {
     "name": "stdout",
     "output_type": "stream",
     "text": [
      "args: (1, 3, 4)\n",
      "kwargs: {'x': 13.37, 'b': False, 'c': 30, 'd': 40.5}\n"
     ]
    }
   ],
   "source": [
    "my_function(1, 3, 4, x=13.37, b=False, c=30, d=40.5)"
   ]
  }
 ],
 "metadata": {
  "file_extension": ".py",
  "interpreter": {
   "hash": "ef4ce19910938c421491e84375c43d450a079a1a865d40a0bc82f335363ab876"
  },
  "kernelspec": {
   "display_name": "Python 3.10.4 ('pyUdemy')",
   "language": "python",
   "name": "python3"
  },
  "language_info": {
   "codemirror_mode": {
    "name": "ipython",
    "version": 3
   },
   "file_extension": ".py",
   "mimetype": "text/x-python",
   "name": "python",
   "nbconvert_exporter": "python",
   "pygments_lexer": "ipython3",
   "version": "3.10.4"
  },
  "mimetype": "text/x-python",
  "name": "python",
  "npconvert_exporter": "python",
  "orig_nbformat": 2,
  "pygments_lexer": "ipython3",
  "version": 3
 },
 "nbformat": 4,
 "nbformat_minor": 2
}
