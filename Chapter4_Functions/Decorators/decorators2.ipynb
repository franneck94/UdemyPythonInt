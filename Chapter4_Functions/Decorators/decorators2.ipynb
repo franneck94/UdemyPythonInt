{
 "cells": [
  {
   "cell_type": "code",
   "execution_count": 43,
   "metadata": {},
   "outputs": [],
   "source": [
    "import time\n",
    "from functools import wraps\n",
    "from typing import Any\n",
    "from typing import Callable\n",
    "from typing import Optional"
   ]
  },
  {
   "cell_type": "markdown",
   "metadata": {},
   "source": [
    "### DEBUGGER\n"
   ]
  },
  {
   "cell_type": "code",
   "execution_count": 44,
   "metadata": {},
   "outputs": [],
   "source": [
    "def debug(fn: Callable) -> Callable:\n",
    "    @wraps(fn)\n",
    "    def debugger(*args: Any, **kwargs: Any) -> Any:\n",
    "        print(f\"Args: {args}\")\n",
    "        print(f\"Kwargs: {kwargs}\")\n",
    "        print(f\"Function {fn.__name__} called\")\n",
    "        fn_result = fn(*args, **kwargs)\n",
    "        print(f\"Function {fn.__name__} returns: {fn_result}\")\n",
    "        return fn_result\n",
    "\n",
    "    return debugger"
   ]
  },
  {
   "cell_type": "code",
   "execution_count": 45,
   "metadata": {},
   "outputs": [],
   "source": [
    "@debug\n",
    "def do_something(\n",
    "    a: int,\n",
    "    b: int,\n",
    "    c: Optional[int] = None,\n",
    "):\n",
    "    return a + b if c else 0"
   ]
  },
  {
   "cell_type": "code",
   "execution_count": null,
   "metadata": {},
   "outputs": [],
   "source": [
    "@debug\n",
    "def do_something2(\n",
    "    a: int,\n",
    "    b: int,\n",
    "    c: Optional[int] = None,\n",
    "):\n",
    "    return a - b if c else 0"
   ]
  },
  {
   "cell_type": "code",
   "execution_count": 46,
   "metadata": {},
   "outputs": [
    {
     "name": "stdout",
     "output_type": "stream",
     "text": [
      "Args: (10, 20)\n",
      "Kwargs: {'c': 1}\n",
      "Function do_something called\n",
      "Function do_something returns: 30\n"
     ]
    },
    {
     "data": {
      "text/plain": [
       "30"
      ]
     },
     "execution_count": 46,
     "metadata": {},
     "output_type": "execute_result"
    }
   ],
   "source": [
    "do_something(10, 20, c=1)"
   ]
  },
  {
   "cell_type": "code",
   "execution_count": 47,
   "metadata": {},
   "outputs": [
    {
     "data": {
      "text/plain": [
       "'do_something'"
      ]
     },
     "execution_count": 47,
     "metadata": {},
     "output_type": "execute_result"
    }
   ],
   "source": [
    "do_something.__name__"
   ]
  },
  {
   "cell_type": "code",
   "execution_count": 48,
   "metadata": {},
   "outputs": [
    {
     "name": "stdout",
     "output_type": "stream",
     "text": [
      "Args: (44, 39)\n",
      "Kwargs: {'c': 2}\n",
      "Function do_something2 called\n",
      "Function do_something2 returns: 5\n"
     ]
    },
    {
     "data": {
      "text/plain": [
       "5"
      ]
     },
     "execution_count": 48,
     "metadata": {},
     "output_type": "execute_result"
    }
   ],
   "source": [
    "do_something2(44, 39, c=2)"
   ]
  },
  {
   "cell_type": "markdown",
   "metadata": {},
   "source": [
    "#### TIMER\n"
   ]
  },
  {
   "cell_type": "code",
   "execution_count": 49,
   "metadata": {},
   "outputs": [],
   "source": [
    "def timing(fn: Callable) -> Callable:\n",
    "    @wraps(fn)\n",
    "    def timer(*args: Any, **kwargs: Any) -> Any:\n",
    "        print(\"Start timer!\")\n",
    "        start_time = time.perf_counter()\n",
    "        fn_result = fn(*args, **kwargs)\n",
    "        end_time = time.perf_counter()\n",
    "        time_duration = end_time - start_time\n",
    "        print(f\"Function {fn.__name__} took: {time_duration} s\")\n",
    "        return fn_result\n",
    "\n",
    "    return timer"
   ]
  },
  {
   "cell_type": "code",
   "execution_count": 50,
   "metadata": {},
   "outputs": [],
   "source": [
    "@timing\n",
    "def iterate(n: int) -> int:\n",
    "    val = 0\n",
    "    for i in range(n):\n",
    "        val += i\n",
    "    return val"
   ]
  },
  {
   "cell_type": "code",
   "execution_count": 51,
   "metadata": {},
   "outputs": [
    {
     "name": "stdout",
     "output_type": "stream",
     "text": [
      "Start timer!\n",
      "Function iterate took: 0.036155800000415184 s\n",
      "Start timer!\n",
      "Function iterate took: 0.03600259999802802 s\n",
      "Start timer!\n",
      "Function iterate took: 0.03543659999559168 s\n",
      "Start timer!\n",
      "Function iterate took: 0.03497300000162795 s\n",
      "Start timer!\n",
      "Function iterate took: 0.034002000000327826 s\n",
      "Start timer!\n",
      "Function iterate took: 0.03369919999386184 s\n"
     ]
    },
    {
     "data": {
      "text/plain": [
       "499999500000"
      ]
     },
     "execution_count": 51,
     "metadata": {},
     "output_type": "execute_result"
    }
   ],
   "source": [
    "iterate(1_000_000)\n",
    "iterate(1_000_000)\n",
    "iterate(1_000_000)\n",
    "iterate(1_000_000)\n",
    "iterate(1_000_000)\n",
    "iterate(1_000_000)"
   ]
  },
  {
   "cell_type": "markdown",
   "metadata": {},
   "source": [
    "### Stacked Decorator\n"
   ]
  },
  {
   "cell_type": "code",
   "execution_count": 52,
   "metadata": {},
   "outputs": [],
   "source": [
    "@debug\n",
    "@timing\n",
    "def my_function(name: str) -> None:\n",
    "    print(f\"Hello: {name}\")"
   ]
  },
  {
   "cell_type": "code",
   "execution_count": 53,
   "metadata": {},
   "outputs": [
    {
     "name": "stdout",
     "output_type": "stream",
     "text": [
      "Args: ('Jan',)\n",
      "Kwargs: {}\n",
      "Function my_function called\n",
      "Start timer!\n",
      "Hello: Jan\n",
      "Function my_function took: 2.7000060072168708e-06 s\n",
      "Function my_function returns: None\n"
     ]
    }
   ],
   "source": [
    "my_function(\"Jan\")"
   ]
  }
 ],
 "metadata": {
  "file_extension": ".py",
  "interpreter": {
   "hash": "ef4ce19910938c421491e84375c43d450a079a1a865d40a0bc82f335363ab876"
  },
  "kernelspec": {
   "display_name": "Python 3.10.4 ('pyUdemy')",
   "language": "python",
   "name": "python3"
  },
  "language_info": {
   "codemirror_mode": {
    "name": "ipython",
    "version": 3
   },
   "file_extension": ".py",
   "mimetype": "text/x-python",
   "name": "python",
   "nbconvert_exporter": "python",
   "pygments_lexer": "ipython3",
   "version": "3.11.5"
  },
  "mimetype": "text/x-python",
  "name": "python",
  "npconvert_exporter": "python",
  "orig_nbformat": 2,
  "pygments_lexer": "ipython3",
  "version": 3
 },
 "nbformat": 4,
 "nbformat_minor": 2
}
