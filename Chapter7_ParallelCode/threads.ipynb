{
 "cells": [
  {
   "cell_type": "code",
   "execution_count": 6,
   "metadata": {},
   "outputs": [],
   "source": [
    "import time\n",
    "from threading import Thread"
   ]
  },
  {
   "cell_type": "markdown",
   "metadata": {},
   "source": [
    "# Threads"
   ]
  },
  {
   "cell_type": "code",
   "execution_count": 7,
   "metadata": {},
   "outputs": [],
   "source": [
    "def worker(sleep_time: float) -> None:\n",
    "    print(\"Start worker\")\n",
    "    time.sleep(sleep_time)\n",
    "    print(\"End worker\")"
   ]
  },
  {
   "cell_type": "code",
   "execution_count": 8,
   "metadata": {},
   "outputs": [],
   "source": [
    "t1 = Thread(target=worker, name=\"t1\", args=(2.0,))"
   ]
  },
  {
   "cell_type": "code",
   "execution_count": 9,
   "metadata": {},
   "outputs": [
    {
     "name": "stdout",
     "output_type": "stream",
     "text": [
      "Ident: None\n",
      "Alive: False\n",
      "Name: t1\n"
     ]
    }
   ],
   "source": [
    "print(f\"Ident: {t1.ident}\")\n",
    "print(f\"Alive: {t1.is_alive()}\")\n",
    "print(f\"Name: {t1.name}\")"
   ]
  },
  {
   "cell_type": "code",
   "execution_count": 10,
   "metadata": {},
   "outputs": [
    {
     "name": "stdout",
     "output_type": "stream",
     "text": [
      "Start worker\n",
      "Ident: 23092\n",
      "Alive: True\n",
      "Name: t1\n",
      "End worker\n"
     ]
    }
   ],
   "source": [
    "t1.start()\n",
    "\n",
    "print(f\"Ident: {t1.ident}\")\n",
    "print(f\"Alive: {t1.is_alive()}\")\n",
    "print(f\"Name: {t1.name}\")\n",
    "\n",
    "t1.join()"
   ]
  }
 ],
 "metadata": {
  "kernelspec": {
   "display_name": "Python 3.10.4 ('pyUdemy')",
   "language": "python",
   "name": "python3"
  },
  "language_info": {
   "codemirror_mode": {
    "name": "ipython",
    "version": 3
   },
   "file_extension": ".py",
   "mimetype": "text/x-python",
   "name": "python",
   "nbconvert_exporter": "python",
   "pygments_lexer": "ipython3",
   "version": "3.10.4"
  },
  "orig_nbformat": 4,
  "vscode": {
   "interpreter": {
    "hash": "ef4ce19910938c421491e84375c43d450a079a1a865d40a0bc82f335363ab876"
   }
  }
 },
 "nbformat": 4,
 "nbformat_minor": 2
}
