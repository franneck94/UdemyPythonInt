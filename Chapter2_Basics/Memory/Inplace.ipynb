{
 "cells": [
  {
   "cell_type": "code",
   "execution_count": 106,
   "metadata": {},
   "outputs": [],
   "source": [
    "import copy\n",
    "from typing import Any"
   ]
  },
  {
   "cell_type": "code",
   "execution_count": 107,
   "metadata": {},
   "outputs": [],
   "source": [
    "def print_memory_address(var: Any) -> None:\n",
    "    print(hex(id(var) % 0xFFFF))"
   ]
  },
  {
   "cell_type": "markdown",
   "metadata": {},
   "source": [
    "### In-Place Functions\n"
   ]
  },
  {
   "cell_type": "markdown",
   "metadata": {},
   "source": [
    "### Immutable Types\n"
   ]
  },
  {
   "cell_type": "code",
   "execution_count": 108,
   "metadata": {},
   "outputs": [
    {
     "name": "stdout",
     "output_type": "stream",
     "text": [
      "0xaf48\n",
      "0xaf88\n",
      "12\n"
     ]
    }
   ],
   "source": [
    "my_number = 10\n",
    "increment = 2\n",
    "\n",
    "print_memory_address(my_number)\n",
    "my_number = my_number + increment\n",
    "print_memory_address(my_number)\n",
    "\n",
    "print(my_number)"
   ]
  },
  {
   "cell_type": "code",
   "execution_count": 109,
   "metadata": {},
   "outputs": [
    {
     "name": "stdout",
     "output_type": "stream",
     "text": [
      "0xaf48\n",
      "0xaf88\n",
      "12\n"
     ]
    }
   ],
   "source": [
    "my_number2 = 10\n",
    "increment2 = 2\n",
    "\n",
    "print_memory_address(my_number2)\n",
    "my_number2 += increment2\n",
    "print_memory_address(my_number2)\n",
    "\n",
    "print(my_number2)"
   ]
  },
  {
   "cell_type": "markdown",
   "metadata": {},
   "source": [
    "### Mutable Types (but not In-Place)\n"
   ]
  },
  {
   "cell_type": "code",
   "execution_count": 110,
   "metadata": {},
   "outputs": [],
   "source": [
    "def inc_list(\n",
    "    lst: list[int],\n",
    "    inc_value: int,\n",
    ") -> list[int]:\n",
    "    for value in lst:\n",
    "        value = value + inc_value  # noqa: PLW2901\n",
    "    return lst"
   ]
  },
  {
   "cell_type": "code",
   "execution_count": 111,
   "metadata": {},
   "outputs": [
    {
     "name": "stdout",
     "output_type": "stream",
     "text": [
      "0x3e29\n",
      "0x3e29\n",
      "[1, 2, 3]\n"
     ]
    }
   ],
   "source": [
    "my_list = [1, 2, 3]\n",
    "increment = 2\n",
    "\n",
    "print_memory_address(my_list)\n",
    "my_list = inc_list(my_list, increment)\n",
    "print_memory_address(my_list)\n",
    "\n",
    "print(my_list)"
   ]
  },
  {
   "cell_type": "code",
   "execution_count": 112,
   "metadata": {},
   "outputs": [],
   "source": [
    "def inc_list(\n",
    "    lst: list[int],\n",
    "    inc_value: int,\n",
    ") -> None:\n",
    "    for idx in range(len(lst)):\n",
    "        lst[idx] = lst[idx] + inc_value"
   ]
  },
  {
   "cell_type": "code",
   "execution_count": 113,
   "metadata": {},
   "outputs": [
    {
     "name": "stdout",
     "output_type": "stream",
     "text": [
      "0x216c\n",
      "0xae28\n",
      "0x216c\n",
      "0xae68\n",
      "[3, 4, 5]\n"
     ]
    }
   ],
   "source": [
    "my_list2 = [1, 2, 3]\n",
    "increment2 = 2\n",
    "\n",
    "print_memory_address(my_list2)\n",
    "print_memory_address(my_list2[0])\n",
    "inc_list(my_list2, increment2)\n",
    "print_memory_address(my_list2)\n",
    "print_memory_address(my_list2[0])\n",
    "\n",
    "print(my_list2)"
   ]
  },
  {
   "cell_type": "code",
   "execution_count": 114,
   "metadata": {},
   "outputs": [],
   "source": [
    "def concat_lists(l1, l2):\n",
    "    return l1 + l2"
   ]
  },
  {
   "cell_type": "code",
   "execution_count": 115,
   "metadata": {},
   "outputs": [
    {
     "name": "stdout",
     "output_type": "stream",
     "text": [
      "0x62e9\n",
      "0x65e7\n",
      "[1, 2]\n",
      "[1, 2, 3, 4]\n",
      "0x6d68\n",
      "0x65e7\n"
     ]
    }
   ],
   "source": [
    "l1 = [1, 2]\n",
    "l2 = [3, 4]\n",
    "\n",
    "print_memory_address(l1)\n",
    "print_memory_address(l2)\n",
    "print(l1)\n",
    "l1 = concat_lists(l1, l2)\n",
    "print(l1)\n",
    "print_memory_address(l1)\n",
    "print_memory_address(l2)"
   ]
  },
  {
   "cell_type": "markdown",
   "metadata": {},
   "source": [
    "### In-Place on Mutable Types\n"
   ]
  },
  {
   "cell_type": "code",
   "execution_count": 116,
   "metadata": {},
   "outputs": [],
   "source": [
    "def concat_lists(\n",
    "    l1: list,\n",
    "    l2: list,\n",
    ") -> list:\n",
    "    return l1 + l2"
   ]
  },
  {
   "cell_type": "code",
   "execution_count": 117,
   "metadata": {},
   "outputs": [
    {
     "name": "stdout",
     "output_type": "stream",
     "text": [
      "0x62e9\n",
      "0x5927\n",
      "[1, 2]\n",
      "[1, 2, 3, 4]\n",
      "0x62e9\n",
      "0x5927\n"
     ]
    }
   ],
   "source": [
    "l3 = [1, 2]\n",
    "l4 = [3, 4]\n",
    "\n",
    "print_memory_address(l3)\n",
    "print_memory_address(l4)\n",
    "print(l3)\n",
    "concat_lists(l3, l4)\n",
    "print(l3)\n",
    "print_memory_address(l3)\n",
    "print_memory_address(l4)"
   ]
  },
  {
   "cell_type": "markdown",
   "metadata": {},
   "source": [
    "### Shallow and Deep Copy\n"
   ]
  },
  {
   "cell_type": "markdown",
   "metadata": {},
   "source": [
    "#### Shallow Copy\n"
   ]
  },
  {
   "cell_type": "code",
   "execution_count": 118,
   "metadata": {},
   "outputs": [
    {
     "name": "stdout",
     "output_type": "stream",
     "text": [
      "0x826\n",
      "0xb267\n",
      "0xae28\n",
      "[[1, 2], [3, 4]]\n"
     ]
    }
   ],
   "source": [
    "list1 = [[1, 2], [3, 4]]\n",
    "\n",
    "print_memory_address(list1)\n",
    "print_memory_address(list1[0])\n",
    "print_memory_address(list1[0][0])\n",
    "print(list1)"
   ]
  },
  {
   "cell_type": "code",
   "execution_count": 119,
   "metadata": {},
   "outputs": [
    {
     "name": "stdout",
     "output_type": "stream",
     "text": [
      "0x826\n",
      "0xb267\n",
      "0xaf48\n",
      "[[10, 2], [3, 4]]\n"
     ]
    }
   ],
   "source": [
    "list1[0][0] = 10\n",
    "\n",
    "print_memory_address(list1)\n",
    "print_memory_address(list1[0])\n",
    "print_memory_address(list1[0][0])\n",
    "print(list1)"
   ]
  },
  {
   "cell_type": "code",
   "execution_count": 120,
   "metadata": {},
   "outputs": [
    {
     "name": "stdout",
     "output_type": "stream",
     "text": [
      "0x826\n",
      "0x3c69\n",
      "[[-1, -2], [3, 4]]\n"
     ]
    }
   ],
   "source": [
    "list1[0] = [-1, -2]\n",
    "\n",
    "print_memory_address(list1)\n",
    "print_memory_address(list1[0])\n",
    "print(list1)"
   ]
  },
  {
   "cell_type": "code",
   "execution_count": 121,
   "metadata": {},
   "outputs": [
    {
     "name": "stdout",
     "output_type": "stream",
     "text": [
      "0x826\n",
      "0xbbe7\n",
      "0x3c69\n",
      "0x3c69\n",
      "[[-1, -2], [3, 4]]\n"
     ]
    }
   ],
   "source": [
    "list2 = copy.copy(list1)\n",
    "\n",
    "print_memory_address(list1)\n",
    "print_memory_address(list2)\n",
    "print_memory_address(list1[0])\n",
    "print_memory_address(list2[0])\n",
    "print(list2)"
   ]
  },
  {
   "cell_type": "code",
   "execution_count": 122,
   "metadata": {},
   "outputs": [
    {
     "name": "stdout",
     "output_type": "stream",
     "text": [
      "0xbbe7\n",
      "0x3c69\n",
      "[[10, -2], [3, 4]]\n"
     ]
    }
   ],
   "source": [
    "list2[0][0] = 10\n",
    "\n",
    "print_memory_address(list2)\n",
    "print_memory_address(list2[0])\n",
    "print(list2)"
   ]
  },
  {
   "cell_type": "code",
   "execution_count": 123,
   "metadata": {},
   "outputs": [
    {
     "name": "stdout",
     "output_type": "stream",
     "text": [
      "0x826\n",
      "0x3c69\n",
      "[[10, -2], [3, 4]]\n"
     ]
    }
   ],
   "source": [
    "print_memory_address(list1)\n",
    "print_memory_address(list1[0])\n",
    "print(list1)"
   ]
  },
  {
   "cell_type": "markdown",
   "metadata": {},
   "source": [
    "#### Deep Copy\n"
   ]
  },
  {
   "cell_type": "code",
   "execution_count": 124,
   "metadata": {},
   "outputs": [
    {
     "name": "stdout",
     "output_type": "stream",
     "text": [
      "0x826\n",
      "0x8ec\n",
      "0x3c69\n",
      "0xdfe7\n",
      "[[10, -2], [3, 4]]\n"
     ]
    }
   ],
   "source": [
    "list3 = copy.deepcopy(list1)\n",
    "\n",
    "print_memory_address(list1)\n",
    "print_memory_address(list3)\n",
    "print_memory_address(list1[0])\n",
    "print_memory_address(list3[0])\n",
    "print(list3)"
   ]
  },
  {
   "cell_type": "code",
   "execution_count": 125,
   "metadata": {},
   "outputs": [
    {
     "name": "stdout",
     "output_type": "stream",
     "text": [
      "0x8ec\n",
      "0xdfe7\n",
      "[[-10, -2], [3, 4]]\n"
     ]
    }
   ],
   "source": [
    "list3[0][0] = -10\n",
    "\n",
    "print_memory_address(list3)\n",
    "print_memory_address(list3[0])\n",
    "print(list3)"
   ]
  },
  {
   "cell_type": "code",
   "execution_count": 126,
   "metadata": {},
   "outputs": [
    {
     "name": "stdout",
     "output_type": "stream",
     "text": [
      "0x826\n",
      "0x3c69\n",
      "[[10, -2], [3, 4]]\n"
     ]
    }
   ],
   "source": [
    "print_memory_address(list1)\n",
    "print_memory_address(list1[0])\n",
    "print(list1)"
   ]
  }
 ],
 "metadata": {
  "interpreter": {
   "hash": "ef4ce19910938c421491e84375c43d450a079a1a865d40a0bc82f335363ab876"
  },
  "kernelspec": {
   "display_name": "Python 3.10.4 ('pyUdemy')",
   "language": "python",
   "name": "python3"
  },
  "language_info": {
   "codemirror_mode": {
    "name": "ipython",
    "version": 3
   },
   "file_extension": ".py",
   "mimetype": "text/x-python",
   "name": "python",
   "nbconvert_exporter": "python",
   "pygments_lexer": "ipython3",
   "version": "3.10.4"
  },
  "orig_nbformat": 2
 },
 "nbformat": 4,
 "nbformat_minor": 2
}
