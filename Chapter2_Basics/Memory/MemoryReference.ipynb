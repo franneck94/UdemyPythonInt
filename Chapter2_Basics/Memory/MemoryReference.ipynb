{
 "cells": [
  {
   "cell_type": "code",
   "execution_count": 43,
   "metadata": {},
   "outputs": [],
   "source": [
    "import random\n",
    "from typing import Any\n",
    "\n",
    "\n",
    "random.seed(42)"
   ]
  },
  {
   "cell_type": "code",
   "execution_count": 44,
   "metadata": {},
   "outputs": [],
   "source": [
    "def print_memory_address(var: Any) -> None:\n",
    "    print(hex(id(var)))"
   ]
  },
  {
   "cell_type": "markdown",
   "metadata": {},
   "source": [
    "### Variable Memory References\n"
   ]
  },
  {
   "cell_type": "code",
   "execution_count": 45,
   "metadata": {},
   "outputs": [
    {
     "name": "stdout",
     "output_type": "stream",
     "text": [
      "0x1d04cea0210\n"
     ]
    }
   ],
   "source": [
    "my_value = 10  # int\n",
    "print_memory_address(my_value)"
   ]
  },
  {
   "cell_type": "code",
   "execution_count": 46,
   "metadata": {},
   "outputs": [
    {
     "name": "stdout",
     "output_type": "stream",
     "text": [
      "0x1d04cea0250\n"
     ]
    }
   ],
   "source": [
    "my_value2 = 12\n",
    "print_memory_address(my_value2)"
   ]
  },
  {
   "cell_type": "code",
   "execution_count": 47,
   "metadata": {},
   "outputs": [],
   "source": [
    "my_int1 = 42\n",
    "my_int2 = 42\n",
    "my_int3 = 42"
   ]
  },
  {
   "cell_type": "code",
   "execution_count": 48,
   "metadata": {},
   "outputs": [
    {
     "name": "stdout",
     "output_type": "stream",
     "text": [
      "0x1d04cea0610\n",
      "0x1d04cea0610\n",
      "0x1d04cea0610\n"
     ]
    }
   ],
   "source": [
    "print_memory_address(my_int1)\n",
    "print_memory_address(my_int2)\n",
    "print_memory_address(my_int3)"
   ]
  },
  {
   "cell_type": "code",
   "execution_count": 49,
   "metadata": {},
   "outputs": [],
   "source": [
    "my_bool1 = True\n",
    "my_bool2 = True\n",
    "my_bool3 = False\n",
    "my_bool4 = False"
   ]
  },
  {
   "cell_type": "code",
   "execution_count": 50,
   "metadata": {},
   "outputs": [
    {
     "name": "stdout",
     "output_type": "stream",
     "text": [
      "0x7ffe859a0870\n",
      "0x7ffe859a0870\n",
      "0x7ffe859a0890\n",
      "0x7ffe859a0890\n"
     ]
    }
   ],
   "source": [
    "print_memory_address(my_bool1)\n",
    "print_memory_address(my_bool2)\n",
    "print_memory_address(my_bool3)\n",
    "print_memory_address(my_bool4)"
   ]
  },
  {
   "cell_type": "code",
   "execution_count": 51,
   "metadata": {},
   "outputs": [],
   "source": [
    "my_float1 = 42.0\n",
    "my_float2 = 42.0\n",
    "my_float3 = 42.0"
   ]
  },
  {
   "cell_type": "code",
   "execution_count": 52,
   "metadata": {},
   "outputs": [
    {
     "name": "stdout",
     "output_type": "stream",
     "text": [
      "0x1d051d8e870\n",
      "0x1d051d8e770\n",
      "0x1d051d8e930\n"
     ]
    }
   ],
   "source": [
    "print_memory_address(my_float1)\n",
    "print_memory_address(my_float2)\n",
    "print_memory_address(my_float3)"
   ]
  },
  {
   "cell_type": "markdown",
   "metadata": {},
   "source": [
    "-   Int\n",
    "-   Bool\n",
    "-   None\n"
   ]
  },
  {
   "cell_type": "code",
   "execution_count": 53,
   "metadata": {},
   "outputs": [],
   "source": [
    "my_none1 = None\n",
    "my_none2 = None"
   ]
  },
  {
   "cell_type": "code",
   "execution_count": 54,
   "metadata": {},
   "outputs": [
    {
     "name": "stdout",
     "output_type": "stream",
     "text": [
      "0x7ffe859b2e40\n",
      "0x7ffe859b2e40\n"
     ]
    }
   ],
   "source": [
    "print_memory_address(my_none1)\n",
    "print_memory_address(my_none2)"
   ]
  },
  {
   "cell_type": "code",
   "execution_count": 55,
   "metadata": {},
   "outputs": [],
   "source": [
    "my_list1 = [1, 2, 3]\n",
    "my_list2 = my_list1"
   ]
  },
  {
   "cell_type": "code",
   "execution_count": 56,
   "metadata": {},
   "outputs": [
    {
     "name": "stdout",
     "output_type": "stream",
     "text": [
      "0x1d051dac440\n",
      "0x1d051dac440\n"
     ]
    }
   ],
   "source": [
    "print_memory_address(my_list1)\n",
    "print_memory_address(my_list2)"
   ]
  },
  {
   "cell_type": "code",
   "execution_count": 57,
   "metadata": {},
   "outputs": [],
   "source": [
    "my_list1[0] = -1"
   ]
  },
  {
   "cell_type": "code",
   "execution_count": 58,
   "metadata": {},
   "outputs": [
    {
     "name": "stdout",
     "output_type": "stream",
     "text": [
      "[-1, 2, 3]\n",
      "[-1, 2, 3]\n"
     ]
    }
   ],
   "source": [
    "print(my_list1)\n",
    "print(my_list2)"
   ]
  },
  {
   "cell_type": "code",
   "execution_count": 59,
   "metadata": {},
   "outputs": [
    {
     "name": "stdout",
     "output_type": "stream",
     "text": [
      "0x1d051dac440\n",
      "0x1d051dac440\n"
     ]
    }
   ],
   "source": [
    "print_memory_address(my_list1)\n",
    "print_memory_address(my_list2)"
   ]
  }
 ],
 "metadata": {
  "file_extension": ".py",
  "interpreter": {
   "hash": "ef4ce19910938c421491e84375c43d450a079a1a865d40a0bc82f335363ab876"
  },
  "kernelspec": {
   "display_name": "Python 3.10.4 ('pyUdemy')",
   "language": "python",
   "name": "python3"
  },
  "language_info": {
   "codemirror_mode": {
    "name": "ipython",
    "version": 3
   },
   "file_extension": ".py",
   "mimetype": "text/x-python",
   "name": "python",
   "nbconvert_exporter": "python",
   "pygments_lexer": "ipython3",
   "version": "3.10.4"
  },
  "mimetype": "text/x-python",
  "name": "python",
  "npconvert_exporter": "python",
  "orig_nbformat": 2,
  "pygments_lexer": "ipython3",
  "version": 3
 },
 "nbformat": 4,
 "nbformat_minor": 2
}
