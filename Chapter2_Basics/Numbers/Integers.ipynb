{
 "cells": [
  {
   "cell_type": "code",
   "execution_count": 21,
   "metadata": {},
   "outputs": [],
   "source": [
    "import math\n",
    "import sys"
   ]
  },
  {
   "cell_type": "markdown",
   "metadata": {},
   "source": [
    "# Integers\n"
   ]
  },
  {
   "cell_type": "markdown",
   "metadata": {},
   "source": [
    "C/C++/Java: int 32bit/4Byte\n",
    "\n",
    "Python: int object uses a variable number of bits\n"
   ]
  },
  {
   "cell_type": "code",
   "execution_count": 22,
   "metadata": {},
   "outputs": [
    {
     "name": "stdout",
     "output_type": "stream",
     "text": [
      "Integer size: 28\n"
     ]
    }
   ],
   "source": [
    "my_value = 42\n",
    "print(f\"Integer size: {sys.getsizeof(my_value)}\")"
   ]
  },
  {
   "cell_type": "code",
   "execution_count": 23,
   "metadata": {},
   "outputs": [
    {
     "name": "stdout",
     "output_type": "stream",
     "text": [
      "Integer size: 36\n"
     ]
    }
   ],
   "source": [
    "my_value2 = 2**64\n",
    "print(f\"Integer size: {sys.getsizeof(my_value2)}\")"
   ]
  },
  {
   "cell_type": "markdown",
   "metadata": {},
   "source": [
    "## Arithmetic Opretions\n",
    "\n",
    "(int / int) => float\n"
   ]
  },
  {
   "cell_type": "code",
   "execution_count": 24,
   "metadata": {},
   "outputs": [
    {
     "name": "stdout",
     "output_type": "stream",
     "text": [
      "Result: 15 Type: <class 'int'>\n"
     ]
    }
   ],
   "source": [
    "result = 10 + 5\n",
    "print(f\"Result: {result} Type: {type(result)}\")"
   ]
  },
  {
   "cell_type": "code",
   "execution_count": 25,
   "metadata": {},
   "outputs": [
    {
     "name": "stdout",
     "output_type": "stream",
     "text": [
      "Result: 5 Type: <class 'int'>\n"
     ]
    }
   ],
   "source": [
    "result = 10 - 5\n",
    "print(f\"Result: {result} Type: {type(result)}\")"
   ]
  },
  {
   "cell_type": "code",
   "execution_count": 26,
   "metadata": {},
   "outputs": [
    {
     "name": "stdout",
     "output_type": "stream",
     "text": [
      "Result: 50 Type: <class 'int'>\n"
     ]
    }
   ],
   "source": [
    "result = 10 * 5\n",
    "print(f\"Result: {result} Type: {type(result)}\")"
   ]
  },
  {
   "cell_type": "code",
   "execution_count": 27,
   "metadata": {},
   "outputs": [
    {
     "name": "stdout",
     "output_type": "stream",
     "text": [
      "Result:  3  Type:  <class 'int'>\n"
     ]
    }
   ],
   "source": [
    "result = 10 // 3\n",
    "print(\"Result: \", result, \" Type: \", type(result))"
   ]
  },
  {
   "cell_type": "code",
   "execution_count": 28,
   "metadata": {},
   "outputs": [
    {
     "name": "stdout",
     "output_type": "stream",
     "text": [
      "Result: 2.0 Type: <class 'float'>\n"
     ]
    }
   ],
   "source": [
    "result = 10 / 5\n",
    "print(f\"Result: {result} Type: {type(result)}\")"
   ]
  },
  {
   "cell_type": "markdown",
   "metadata": {},
   "source": [
    "## Float -> Int\n"
   ]
  },
  {
   "cell_type": "code",
   "execution_count": 29,
   "metadata": {},
   "outputs": [
    {
     "name": "stdout",
     "output_type": "stream",
     "text": [
      "-2.7\n",
      "-2\n"
     ]
    }
   ],
   "source": [
    "my_float = -2.7\n",
    "print(my_float)\n",
    "my_int = int(my_float)\n",
    "print(my_int)"
   ]
  },
  {
   "cell_type": "markdown",
   "metadata": {},
   "source": [
    "## (To-) Int Rounding\n",
    "\n",
    "-   floor (abrunden)\n",
    "-   ceil (aufrunden)\n"
   ]
  },
  {
   "cell_type": "code",
   "execution_count": 30,
   "metadata": {},
   "outputs": [
    {
     "name": "stdout",
     "output_type": "stream",
     "text": [
      "2.7\n",
      "2\n",
      "3\n"
     ]
    }
   ],
   "source": [
    "my_float2 = 2.7\n",
    "print(my_float2)\n",
    "my_int2 = math.floor(my_float2)\n",
    "print(my_int2)\n",
    "my_int3 = math.ceil(my_float2)\n",
    "print(my_int3)"
   ]
  },
  {
   "cell_type": "code",
   "execution_count": 31,
   "metadata": {},
   "outputs": [
    {
     "name": "stdout",
     "output_type": "stream",
     "text": [
      "-2.7\n",
      "-3\n",
      "-2\n"
     ]
    }
   ],
   "source": [
    "my_float3 = -2.7\n",
    "print(my_float3)\n",
    "my_int4 = math.floor(my_float3)\n",
    "print(my_int4)\n",
    "my_int5 = math.ceil(my_float3)\n",
    "print(my_int5)"
   ]
  },
  {
   "cell_type": "markdown",
   "metadata": {},
   "source": [
    "## Integer Bases\n",
    "\n",
    "-   decimal: base 10\n",
    "-   binary: base 2\n",
    "-   hex: base 16\n"
   ]
  },
  {
   "cell_type": "code",
   "execution_count": 32,
   "metadata": {},
   "outputs": [
    {
     "name": "stdout",
     "output_type": "stream",
     "text": [
      "Value: 42\n"
     ]
    }
   ],
   "source": [
    "my_decimal = int(\"42\", base=10)\n",
    "print(f\"Value: {my_decimal}\")"
   ]
  },
  {
   "cell_type": "code",
   "execution_count": 33,
   "metadata": {},
   "outputs": [
    {
     "name": "stdout",
     "output_type": "stream",
     "text": [
      "Value: 66\n"
     ]
    }
   ],
   "source": [
    "my_hexadecimal = int(\"42\", base=16)\n",
    "print(f\"Value: {my_hexadecimal}\")"
   ]
  },
  {
   "cell_type": "code",
   "execution_count": 34,
   "metadata": {},
   "outputs": [
    {
     "name": "stdout",
     "output_type": "stream",
     "text": [
      "Value: 42\n"
     ]
    }
   ],
   "source": [
    "my_binary = int(\"101010\", base=2)\n",
    "print(f\"Value: {my_binary}\")"
   ]
  },
  {
   "cell_type": "code",
   "execution_count": 35,
   "metadata": {},
   "outputs": [
    {
     "name": "stdout",
     "output_type": "stream",
     "text": [
      "Value: 42\n"
     ]
    }
   ],
   "source": [
    "my_binary2 = int(\"0b101010\", base=0)\n",
    "print(f\"Value: {my_binary2}\")"
   ]
  },
  {
   "cell_type": "code",
   "execution_count": 36,
   "metadata": {},
   "outputs": [
    {
     "name": "stdout",
     "output_type": "stream",
     "text": [
      "Value: 42\n"
     ]
    }
   ],
   "source": [
    "my_binary3 = 0b101010\n",
    "print(f\"Value: {my_binary3}\")"
   ]
  },
  {
   "cell_type": "code",
   "execution_count": 37,
   "metadata": {},
   "outputs": [
    {
     "name": "stdout",
     "output_type": "stream",
     "text": [
      "Value: 68\n"
     ]
    }
   ],
   "source": [
    "my_hex2 = 0x44\n",
    "print(f\"Value: {my_hex2}\")"
   ]
  }
 ],
 "metadata": {
  "interpreter": {
   "hash": "ef4ce19910938c421491e84375c43d450a079a1a865d40a0bc82f335363ab876"
  },
  "kernelspec": {
   "display_name": "Python 3.10.4 ('pyUdemy')",
   "language": "python",
   "name": "python3"
  },
  "language_info": {
   "codemirror_mode": {
    "name": "ipython",
    "version": 3
   },
   "file_extension": ".py",
   "mimetype": "text/x-python",
   "name": "python",
   "nbconvert_exporter": "python",
   "pygments_lexer": "ipython3",
   "version": "3.11.5"
  },
  "orig_nbformat": 4
 },
 "nbformat": 4,
 "nbformat_minor": 2
}
