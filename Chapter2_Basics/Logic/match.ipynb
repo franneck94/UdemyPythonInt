{
 "cells": [
  {
   "attachments": {},
   "cell_type": "markdown",
   "metadata": {},
   "source": [
    "### Pattern Matching\n"
   ]
  },
  {
   "cell_type": "code",
   "execution_count": 3,
   "metadata": {},
   "outputs": [],
   "source": [
    "def guessing_game(guess: int) -> None:\n",
    "    match guess:\n",
    "        case guess if guess < 0:\n",
    "            print(f\"{guess} is not valid!\")\n",
    "        case 2:\n",
    "            print(f\"{guess} close!\")\n",
    "        case 4:\n",
    "            print(f\"{guess} you won!\")\n",
    "        case 7 | 8 | 9:\n",
    "            print(f\"{guess} close!\")\n",
    "        case _:\n",
    "            print(f\"{guess} not the correct value!\")"
   ]
  },
  {
   "cell_type": "code",
   "execution_count": 4,
   "metadata": {},
   "outputs": [
    {
     "name": "stdout",
     "output_type": "stream",
     "text": [
      "5 not the correct value!\n"
     ]
    }
   ],
   "source": [
    "guessing_game(5)"
   ]
  }
 ],
 "metadata": {
  "interpreter": {
   "hash": "ef4ce19910938c421491e84375c43d450a079a1a865d40a0bc82f335363ab876"
  },
  "kernelspec": {
   "display_name": "Python 3.10.4 ('pyUdemy')",
   "language": "python",
   "name": "python3"
  },
  "language_info": {
   "codemirror_mode": {
    "name": "ipython",
    "version": 3
   },
   "file_extension": ".py",
   "mimetype": "text/x-python",
   "name": "python",
   "nbconvert_exporter": "python",
   "pygments_lexer": "ipython3",
   "version": "3.11.5"
  },
  "orig_nbformat": 4
 },
 "nbformat": 4,
 "nbformat_minor": 2
}
