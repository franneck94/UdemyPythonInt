{
 "cells": [
  {
   "cell_type": "code",
   "execution_count": 10,
   "metadata": {},
   "outputs": [],
   "source": [
    "from typing import Any\n",
    "from typing import Union"
   ]
  },
  {
   "cell_type": "code",
   "execution_count": 11,
   "metadata": {},
   "outputs": [],
   "source": [
    "def memory_address(var: Any):\n",
    "    return hex(id(var) % 0xFFFF)"
   ]
  },
  {
   "cell_type": "code",
   "execution_count": 12,
   "metadata": {},
   "outputs": [],
   "source": [
    "def print_list_info(lst: Union[list[Any], list[list[Any]]]):\n",
    "    print(f\"List address: {memory_address(lst)}\")\n",
    "    if len(lst) == 0:\n",
    "        return\n",
    "    if not isinstance(lst[0], list):\n",
    "        return\n",
    "    for i in range(len(lst)):\n",
    "        print(f\"List[{i}]: {memory_address(lst[i])}\")\n",
    "        if isinstance(lst[i], list):\n",
    "            for j in range(len(lst[i])):\n",
    "                print(f\"List[{i},{j}]: {memory_address(lst[i][j])}\")\n",
    "    print(\"\\n\")"
   ]
  },
  {
   "cell_type": "markdown",
   "metadata": {},
   "source": [
    "## Lists\n"
   ]
  },
  {
   "cell_type": "code",
   "execution_count": 13,
   "metadata": {},
   "outputs": [
    {
     "name": "stdout",
     "output_type": "stream",
     "text": [
      "[1, 2, 3]\n",
      "List address: 0x8b5b\n"
     ]
    }
   ],
   "source": [
    "my_list = [1, 2, 3]\n",
    "print(my_list)\n",
    "print_list_info(my_list)"
   ]
  },
  {
   "cell_type": "code",
   "execution_count": 14,
   "metadata": {},
   "outputs": [
    {
     "name": "stdout",
     "output_type": "stream",
     "text": [
      "[[1, 2], [3]]\n",
      "List address: 0xd6ea\n",
      "List[0]: 0xb6aa\n",
      "List[0,0]: 0xd7b3\n",
      "List[0,1]: 0xd7d3\n",
      "List[1]: 0x202b\n",
      "List[1,0]: 0xd7f3\n",
      "\n",
      "\n"
     ]
    }
   ],
   "source": [
    "my_list2 = [[1, 2], [3]]\n",
    "print(my_list2)\n",
    "print_list_info(my_list2)"
   ]
  },
  {
   "cell_type": "code",
   "execution_count": 15,
   "metadata": {},
   "outputs": [
    {
     "name": "stdout",
     "output_type": "stream",
     "text": [
      "[[1, 2], [3, 6]]\n",
      "List address: 0xd6ea\n",
      "List[0]: 0xb6aa\n",
      "List[0,0]: 0xd7b3\n",
      "List[0,1]: 0xd7d3\n",
      "List[1]: 0xc16a\n",
      "List[1,0]: 0xd7f3\n",
      "List[1,1]: 0xd853\n",
      "\n",
      "\n"
     ]
    }
   ],
   "source": [
    "my_list2[1] = [3, 6]\n",
    "print(my_list2)\n",
    "print_list_info(my_list2)"
   ]
  },
  {
   "cell_type": "markdown",
   "metadata": {},
   "source": [
    "### List Comp\n"
   ]
  },
  {
   "cell_type": "code",
   "execution_count": 16,
   "metadata": {},
   "outputs": [
    {
     "name": "stdout",
     "output_type": "stream",
     "text": [
      "[0, 1, 2, 3, 4]\n"
     ]
    }
   ],
   "source": [
    "list1 = []\n",
    "\n",
    "for i in range(5):\n",
    "    list1.append(i)\n",
    "\n",
    "print(list1)"
   ]
  },
  {
   "cell_type": "code",
   "execution_count": 17,
   "metadata": {},
   "outputs": [
    {
     "name": "stdout",
     "output_type": "stream",
     "text": [
      "[0, 1, 2, 3, 4]\n"
     ]
    }
   ],
   "source": [
    "list2 = [i for i in range(5)]\n",
    "\n",
    "print(list2)"
   ]
  },
  {
   "cell_type": "code",
   "execution_count": 18,
   "metadata": {},
   "outputs": [
    {
     "name": "stdout",
     "output_type": "stream",
     "text": [
      "[0, 1, 2]\n"
     ]
    }
   ],
   "source": [
    "my_list3 = [i for i in range(5) if (i < 3)]\n",
    "\n",
    "print(my_list3)"
   ]
  },
  {
   "cell_type": "code",
   "execution_count": 19,
   "metadata": {},
   "outputs": [
    {
     "name": "stdout",
     "output_type": "stream",
     "text": [
      "[-1, -1, -1, 3, 4]\n"
     ]
    }
   ],
   "source": [
    "my_list4 = [i if i > 2 else -1 for i in range(5)]\n",
    "\n",
    "print(my_list4)"
   ]
  }
 ],
 "metadata": {
  "file_extension": ".py",
  "kernelspec": {
   "display_name": "Python 3.10.4 ('pyUdemy')",
   "language": "python",
   "name": "python3"
  },
  "language_info": {
   "codemirror_mode": {
    "name": "ipython",
    "version": 3
   },
   "file_extension": ".py",
   "mimetype": "text/x-python",
   "name": "python",
   "nbconvert_exporter": "python",
   "pygments_lexer": "ipython3",
   "version": "3.10.4"
  },
  "mimetype": "text/x-python",
  "name": "python",
  "npconvert_exporter": "python",
  "orig_nbformat": 2,
  "pygments_lexer": "ipython3",
  "version": 3,
  "vscode": {
   "interpreter": {
    "hash": "ef4ce19910938c421491e84375c43d450a079a1a865d40a0bc82f335363ab876"
   }
  }
 },
 "nbformat": 4,
 "nbformat_minor": 2
}
