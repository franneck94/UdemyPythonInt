{
 "cells": [
  {
   "cell_type": "code",
   "execution_count": 14,
   "metadata": {},
   "outputs": [],
   "source": [
    "def memory_address(var):\n",
    "    return hex(id(var) % 0xFFFFF)\n",
    "\n",
    "\n",
    "def print_string_info(st):\n",
    "    print(f\"String address: {memory_address(st)}\")\n",
    "    for val in st:\n",
    "        print(f\"Val: {memory_address(val)}\")\n",
    "    print(\"\\n\")"
   ]
  },
  {
   "cell_type": "markdown",
   "metadata": {},
   "source": [
    "# Strings\n"
   ]
  },
  {
   "cell_type": "code",
   "execution_count": 15,
   "metadata": {},
   "outputs": [
    {
     "name": "stdout",
     "output_type": "stream",
     "text": [
      "Jan\n",
      "String address: 0x170b2\n",
      "Val: 0xad50c\n",
      "Val: 0x65089\n",
      "Val: 0x19849\n",
      "\n",
      "\n"
     ]
    }
   ],
   "source": [
    "my_name = \"Jan\"\n",
    "\n",
    "print(my_name)\n",
    "print_string_info(my_name)"
   ]
  },
  {
   "cell_type": "code",
   "execution_count": 16,
   "metadata": {},
   "outputs": [
    {
     "name": "stdout",
     "output_type": "stream",
     "text": [
      "Ja\n",
      "String address: 0x53bcb\n",
      "Val: 0xad50c\n",
      "Val: 0x65089\n",
      "\n",
      "\n"
     ]
    }
   ],
   "source": [
    "my_name = my_name[:2]\n",
    "\n",
    "print(my_name)\n",
    "print_string_info(my_name)"
   ]
  },
  {
   "cell_type": "code",
   "execution_count": 17,
   "metadata": {},
   "outputs": [
    {
     "name": "stdout",
     "output_type": "stream",
     "text": [
      "'str' object does not support item assignment\n",
      "Ja\n",
      "String address: 0x53bcb\n",
      "Val: 0xad50c\n",
      "Val: 0x65089\n",
      "\n",
      "\n"
     ]
    }
   ],
   "source": [
    "try:\n",
    "    my_name[0] = \"a\"\n",
    "except TypeError as e:\n",
    "    print(e)\n",
    "\n",
    "print(my_name)\n",
    "print_string_info(my_name)"
   ]
  },
  {
   "cell_type": "code",
   "execution_count": 18,
   "metadata": {},
   "outputs": [
    {
     "name": "stdout",
     "output_type": "stream",
     "text": [
      "aa\n",
      "String address: 0xd9115\n",
      "Val: 0x65089\n",
      "Val: 0x65089\n",
      "\n",
      "\n"
     ]
    }
   ],
   "source": [
    "my_name = \"a\" + my_name[1:]\n",
    "\n",
    "print(my_name)\n",
    "print_string_info(my_name)"
   ]
  }
 ],
 "metadata": {
  "file_extension": ".py",
  "kernelspec": {
   "display_name": "Python 3.10.4 ('pyUdemy')",
   "language": "python",
   "name": "python3"
  },
  "language_info": {
   "codemirror_mode": {
    "name": "ipython",
    "version": 3
   },
   "file_extension": ".py",
   "mimetype": "text/x-python",
   "name": "python",
   "nbconvert_exporter": "python",
   "pygments_lexer": "ipython3",
   "version": "3.11.5"
  },
  "mimetype": "text/x-python",
  "name": "python",
  "npconvert_exporter": "python",
  "orig_nbformat": 2,
  "pygments_lexer": "ipython3",
  "version": 3,
  "vscode": {
   "interpreter": {
    "hash": "ef4ce19910938c421491e84375c43d450a079a1a865d40a0bc82f335363ab876"
   }
  }
 },
 "nbformat": 4,
 "nbformat_minor": 2
}
