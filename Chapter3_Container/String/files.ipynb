{
 "cells": [
  {
   "cell_type": "code",
   "execution_count": 49,
   "metadata": {},
   "outputs": [],
   "source": [
    "import os\n",
    "from pathlib import Path\n"
   ]
  },
  {
   "cell_type": "markdown",
   "metadata": {},
   "source": [
    "# Filepaths\n"
   ]
  },
  {
   "cell_type": "code",
   "execution_count": 50,
   "metadata": {},
   "outputs": [],
   "source": [
    "project_path = os.path.abspath(\n",
    "    \"C:/Users/Jan/OneDrive/_Coding/UdemyPythonPro/\",\n",
    ")\n"
   ]
  },
  {
   "cell_type": "code",
   "execution_count": 51,
   "metadata": {},
   "outputs": [
    {
     "name": "stdout",
     "output_type": "stream",
     "text": [
      "C:\\Users\\Jan\\OneDrive\\_Coding\\UdemyPythonPro\n"
     ]
    }
   ],
   "source": [
    "print(project_path)\n"
   ]
  },
  {
   "cell_type": "code",
   "execution_count": 52,
   "metadata": {},
   "outputs": [],
   "source": [
    "file_path = os.path.join(\n",
    "    project_path,\n",
    "    \"Chapter03_Container\",\n",
    "    \"String\",\n",
    "    \"user_data.txt\",\n",
    ")\n"
   ]
  },
  {
   "cell_type": "code",
   "execution_count": 53,
   "metadata": {},
   "outputs": [
    {
     "name": "stdout",
     "output_type": "stream",
     "text": [
      "<class 'str'>\n",
      "C:\\Users\\Jan\\OneDrive\\_Coding\\UdemyPythonPro\\Chapter03_Container\\String\\user_data.txt\n"
     ]
    }
   ],
   "source": [
    "print(type(file_path))\n",
    "print(file_path)\n"
   ]
  },
  {
   "cell_type": "code",
   "execution_count": 54,
   "metadata": {},
   "outputs": [],
   "source": [
    "p = Path(file_path)\n"
   ]
  },
  {
   "cell_type": "code",
   "execution_count": 55,
   "metadata": {},
   "outputs": [
    {
     "name": "stdout",
     "output_type": "stream",
     "text": [
      "C:\\Users\\Jan\\OneDrive\\_Coding\\UdemyPythonPro\\Chapter03_Container\\String\\user_data.txt\n"
     ]
    }
   ],
   "source": [
    "print(p)\n"
   ]
  },
  {
   "cell_type": "code",
   "execution_count": 56,
   "metadata": {},
   "outputs": [
    {
     "name": "stdout",
     "output_type": "stream",
     "text": [
      "absolute\n",
      "anchor\n",
      "chmod\n",
      "cwd\n",
      "drive\n",
      "exists\n",
      "expanduser\n",
      "glob\n",
      "group\n",
      "home\n",
      "iterdir\n",
      "joinpath\n",
      "lchmod\n",
      "lstat\n",
      "match\n",
      "mkdir\n",
      "name\n",
      "open\n",
      "owner\n",
      "parent\n",
      "parents\n",
      "parts\n",
      "readlink\n",
      "rename\n",
      "replace\n",
      "resolve\n",
      "rglob\n",
      "rmdir\n",
      "root\n",
      "samefile\n",
      "stat\n",
      "stem\n",
      "suffix\n",
      "suffixes\n",
      "touch\n",
      "unlink\n"
     ]
    }
   ],
   "source": [
    "for d in dir(p):\n",
    "    if \"_\" not in d:\n",
    "        print(d)\n"
   ]
  },
  {
   "cell_type": "code",
   "execution_count": 57,
   "metadata": {},
   "outputs": [
    {
     "name": "stdout",
     "output_type": "stream",
     "text": [
      "<class 'pathlib.WindowsPath'>\n"
     ]
    }
   ],
   "source": [
    "print(type(p))\n"
   ]
  },
  {
   "cell_type": "code",
   "execution_count": 58,
   "metadata": {},
   "outputs": [
    {
     "name": "stdout",
     "output_type": "stream",
     "text": [
      "C:\\Users\\Jan\\OneDrive\\_Coding\\UdemyPythonPro\\Chapter03_Container\\String\\user_data.txt\n"
     ]
    }
   ],
   "source": [
    "print(p)\n"
   ]
  },
  {
   "cell_type": "code",
   "execution_count": 59,
   "metadata": {},
   "outputs": [
    {
     "name": "stdout",
     "output_type": "stream",
     "text": [
      "C:\\Users\\Jan\\OneDrive\\_Coding\\UdemyPythonPro\\Chapter03_Container\\String\n"
     ]
    }
   ],
   "source": [
    "print(p.parent)\n"
   ]
  },
  {
   "cell_type": "code",
   "execution_count": 60,
   "metadata": {},
   "outputs": [
    {
     "name": "stdout",
     "output_type": "stream",
     "text": [
      "c:\\Users\\Jan\\OneDrive\\_Coding\\UdemyPythonInt\\Chapter3_Container\\String\\user_data.txt\n"
     ]
    }
   ],
   "source": [
    "p2 = Path(\"user_data.txt\")\n",
    "print(p2.absolute())\n"
   ]
  },
  {
   "cell_type": "code",
   "execution_count": 61,
   "metadata": {},
   "outputs": [
    {
     "name": "stdout",
     "output_type": "stream",
     "text": [
      "False\n"
     ]
    }
   ],
   "source": [
    "print(p.is_dir())\n"
   ]
  },
  {
   "cell_type": "code",
   "execution_count": 62,
   "metadata": {},
   "outputs": [
    {
     "name": "stdout",
     "output_type": "stream",
     "text": [
      "True\n"
     ]
    }
   ],
   "source": [
    "print(p.is_file())\n"
   ]
  },
  {
   "cell_type": "markdown",
   "metadata": {},
   "source": [
    "# Files\n"
   ]
  },
  {
   "cell_type": "markdown",
   "metadata": {},
   "source": [
    "<div style=\"font-size:1.0em;\">\n",
    "\n",
    "Context managers provide **enter**() and **exit**() methods that are invoked on entry to and exit from the body of the with statement.\n",
    "\n",
    "</div>\n"
   ]
  },
  {
   "cell_type": "code",
   "execution_count": 69,
   "metadata": {},
   "outputs": [
    {
     "name": "stdout",
     "output_type": "stream",
     "text": [
      "False\n",
      "['Hello my name is Jan.\\n', 'Nice to meet you.\\n', 'I am currently 26 years old.\\n']\n"
     ]
    }
   ],
   "source": [
    "with open(file_path) as f:\n",
    "    content = f.readlines()\n",
    "    print(f.closed)\n",
    "\n",
    "print(content)\n"
   ]
  },
  {
   "cell_type": "code",
   "execution_count": 64,
   "metadata": {},
   "outputs": [
    {
     "name": "stdout",
     "output_type": "stream",
     "text": [
      "True\n"
     ]
    }
   ],
   "source": [
    "print(f.closed)\n"
   ]
  },
  {
   "cell_type": "code",
   "execution_count": 65,
   "metadata": {},
   "outputs": [
    {
     "name": "stdout",
     "output_type": "stream",
     "text": [
      "<_io.TextIOWrapper name='C:\\\\Users\\\\Jan\\\\OneDrive\\\\_Coding\\\\UdemyPythonPro\\\\Chapter03_Container\\\\String\\\\user_data.txt' mode='r' encoding='utf-8'> <class '_io.TextIOWrapper'>\n"
     ]
    }
   ],
   "source": [
    "print(f, type(f))\n"
   ]
  },
  {
   "cell_type": "code",
   "execution_count": 66,
   "metadata": {},
   "outputs": [
    {
     "name": "stdout",
     "output_type": "stream",
     "text": [
      "['Hello my name is Jan.\\n', 'Nice to meet you.\\n', 'I am currently 26 years old.\\n']\n"
     ]
    }
   ],
   "source": [
    "print(content)\n"
   ]
  },
  {
   "cell_type": "code",
   "execution_count": 67,
   "metadata": {},
   "outputs": [],
   "source": [
    "for idx, line in enumerate(content):\n",
    "    content[idx] = line.replace(\"\\n\", \"\")\n"
   ]
  },
  {
   "cell_type": "code",
   "execution_count": 68,
   "metadata": {},
   "outputs": [
    {
     "name": "stdout",
     "output_type": "stream",
     "text": [
      "['Hello my name is Jan.', 'Nice to meet you.', 'I am currently 26 years old.']\n"
     ]
    }
   ],
   "source": [
    "print(content)\n"
   ]
  }
 ],
 "metadata": {
  "file_extension": ".py",
  "interpreter": {
   "hash": "4eab73af86a999baa7bf0153340022c78a9cea3be6d1f049b3c9a17993d56d0b"
  },
  "kernelspec": {
   "display_name": "Python 3.8.10 64-bit ('tensorflow': conda)",
   "name": "python3"
  },
  "language_info": {
   "codemirror_mode": {
    "name": "ipython",
    "version": 3
   },
   "file_extension": ".py",
   "mimetype": "text/x-python",
   "name": "python",
   "nbconvert_exporter": "python",
   "pygments_lexer": "ipython3",
   "version": "3.11.5"
  },
  "mimetype": "text/x-python",
  "name": "python",
  "npconvert_exporter": "python",
  "orig_nbformat": 2,
  "pygments_lexer": "ipython3",
  "version": 3
 },
 "nbformat": 4,
 "nbformat_minor": 2
}
