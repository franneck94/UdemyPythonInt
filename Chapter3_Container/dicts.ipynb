{
 "cells": [
  {
   "cell_type": "code",
   "execution_count": 61,
   "metadata": {},
   "outputs": [],
   "source": [
    "from typing import Any\n",
    "from typing import Dict"
   ]
  },
  {
   "cell_type": "code",
   "execution_count": 62,
   "metadata": {},
   "outputs": [],
   "source": [
    "def memory_address(var: Any):\n",
    "    return hex(id(var) % 0xFFFF)"
   ]
  },
  {
   "cell_type": "code",
   "execution_count": 63,
   "metadata": {},
   "outputs": [],
   "source": [
    "def print_dict_info(dct: Dict[str, Any]):\n",
    "    print(f\"Dict address: {memory_address(dct)}\")\n",
    "    for key in dct:\n",
    "        print(f\"Dict[{key}]: {memory_address(dct[key])}\")\n",
    "    print(\"\\n\")"
   ]
  },
  {
   "cell_type": "markdown",
   "metadata": {},
   "source": [
    "## Dicts"
   ]
  },
  {
   "cell_type": "markdown",
   "metadata": {},
   "source": [
    "Types for the keys: bool, int, float, str, tuple, None (immutable types)  \n",
    "Types for the values: any type  "
   ]
  },
  {
   "cell_type": "markdown",
   "metadata": {},
   "source": [
    "For each item, the dictionary calculates a hash of the key based on its content.  \n",
    "If the value changes, the hash wil change.   \n",
    "For immutable objects that's not a problem - their content can't change - but mutable objects could.  "
   ]
  },
  {
   "cell_type": "code",
   "execution_count": 64,
   "metadata": {},
   "outputs": [
    {
     "name": "stdout",
     "output_type": "stream",
     "text": [
      "{True: 'test', 10: [1, 2, 3], None: 10.5, 10.1: {'k': 'v'}, 'jan': {'test'}, (10, 20): (5, 4)}\n"
     ]
    }
   ],
   "source": [
    "my_dict1 = {\n",
    "    True: \"test\",\n",
    "    10: [1, 2, 3],\n",
    "    None: 10.5,\n",
    "    10.1: {\"k\": \"v\"},\n",
    "    \"jan\": {\"test\"},\n",
    "    (10, 20): (5, 4),\n",
    "}\n",
    "print(my_dict1)"
   ]
  },
  {
   "cell_type": "code",
   "execution_count": 65,
   "metadata": {},
   "outputs": [
    {
     "name": "stdout",
     "output_type": "stream",
     "text": [
      "Dict address: 0x9a80\n",
      "Dict[True]: 0x3fff\n",
      "Dict[10]: 0xbad8\n",
      "Dict[None]: 0xb98e\n",
      "Dict[10.1]: 0x2e21\n",
      "Dict[jan]: 0xb9ae\n",
      "Dict[(10, 20)]: 0x6253\n",
      "\n",
      "\n"
     ]
    }
   ],
   "source": [
    "print_dict_info(my_dict1)"
   ]
  },
  {
   "cell_type": "markdown",
   "metadata": {},
   "source": [
    "### Dict Comp"
   ]
  },
  {
   "cell_type": "code",
   "execution_count": 66,
   "metadata": {},
   "outputs": [
    {
     "name": "stdout",
     "output_type": "stream",
     "text": [
      "{0: 0, 1: 1, 2: 4, 3: 9, 4: 16}\n"
     ]
    }
   ],
   "source": [
    "my_dict1 = {}\n",
    "\n",
    "for i in range(5):\n",
    "    my_dict1[i] = i**2\n",
    "\n",
    "print(my_dict1)"
   ]
  },
  {
   "cell_type": "code",
   "execution_count": 67,
   "metadata": {},
   "outputs": [
    {
     "name": "stdout",
     "output_type": "stream",
     "text": [
      "{0: 0, 1: 1, 2: 4, 3: 9, 4: 16}\n"
     ]
    }
   ],
   "source": [
    "my_dict2 = {i: i**2 for i in range(5)}\n",
    "\n",
    "print(my_dict2)"
   ]
  },
  {
   "cell_type": "code",
   "execution_count": 68,
   "metadata": {},
   "outputs": [
    {
     "name": "stdout",
     "output_type": "stream",
     "text": [
      "{3: 9, 4: 16}\n"
     ]
    }
   ],
   "source": [
    "my_dict3 = {i: i**2 for i in range(5) if i > 2}\n",
    "\n",
    "print(my_dict3)"
   ]
  },
  {
   "cell_type": "markdown",
   "metadata": {},
   "source": [
    "### Dict Merge"
   ]
  },
  {
   "cell_type": "code",
   "execution_count": 69,
   "metadata": {},
   "outputs": [],
   "source": [
    "my_dict1 = {\"a\": 1, \"b\": 2}\n",
    "my_dict2 = {\"a\": 3, \"d\": 4}\n",
    "my_dict3 = {\"e\": 5, \"f\": 6}"
   ]
  },
  {
   "cell_type": "markdown",
   "metadata": {},
   "source": [
    "#### Pre Python 3.9"
   ]
  },
  {
   "cell_type": "code",
   "execution_count": 70,
   "metadata": {},
   "outputs": [
    {
     "name": "stdout",
     "output_type": "stream",
     "text": [
      "{'a': 3, 'b': 2, 'd': 4}\n"
     ]
    }
   ],
   "source": [
    "my_result_dict1 = {**my_dict1, **my_dict2}\n",
    "print(my_result_dict1)"
   ]
  },
  {
   "cell_type": "markdown",
   "metadata": {},
   "source": [
    "#### Since Python 3.9"
   ]
  },
  {
   "cell_type": "code",
   "execution_count": 71,
   "metadata": {},
   "outputs": [
    {
     "name": "stdout",
     "output_type": "stream",
     "text": [
      "{'a': 3, 'b': 2, 'd': 4}\n"
     ]
    }
   ],
   "source": [
    "my_result_dict3 = my_dict1 | my_dict2\n",
    "print(my_result_dict3)"
   ]
  }
 ],
 "metadata": {
  "file_extension": ".py",
  "kernelspec": {
   "display_name": "Python 3.10.4 ('pyData')",
   "language": "python",
   "name": "python3"
  },
  "language_info": {
   "codemirror_mode": {
    "name": "ipython",
    "version": 3
   },
   "file_extension": ".py",
   "mimetype": "text/x-python",
   "name": "python",
   "nbconvert_exporter": "python",
   "pygments_lexer": "ipython3",
   "version": "3.10.4"
  },
  "mimetype": "text/x-python",
  "name": "python",
  "npconvert_exporter": "python",
  "orig_nbformat": 2,
  "pygments_lexer": "ipython3",
  "version": 3,
  "vscode": {
   "interpreter": {
    "hash": "f7005c152070cabaaf593843feaa8c4a4a04ad569523413e5d5955ceb49c894d"
   }
  }
 },
 "nbformat": 4,
 "nbformat_minor": 2
}
