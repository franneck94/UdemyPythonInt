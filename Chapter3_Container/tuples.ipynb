{
 "cells": [
  {
   "cell_type": "code",
   "execution_count": 39,
   "metadata": {},
   "outputs": [],
   "source": [
    "from typing import Any"
   ]
  },
  {
   "cell_type": "code",
   "execution_count": 40,
   "metadata": {},
   "outputs": [],
   "source": [
    "def memory_address(var: Any):\n",
    "    return hex(id(var) % 0xFFFF)"
   ]
  },
  {
   "cell_type": "code",
   "execution_count": 41,
   "metadata": {},
   "outputs": [],
   "source": [
    "def print_tuple_info(tpl: tuple[Any, ...]) -> None:\n",
    "    print(f\"Tuple address: {memory_address(tpl)}\")\n",
    "    for val in tpl:\n",
    "        print(f\"Val: {memory_address(val)}\")\n",
    "    print(\"\\n\")"
   ]
  },
  {
   "cell_type": "markdown",
   "metadata": {},
   "source": [
    "# Tuple\n"
   ]
  },
  {
   "cell_type": "markdown",
   "metadata": {},
   "source": [
    "Tuple is an Immutable Type  \n",
    "List is a Mutable Type\n"
   ]
  },
  {
   "cell_type": "code",
   "execution_count": 42,
   "metadata": {},
   "outputs": [
    {
     "name": "stdout",
     "output_type": "stream",
     "text": [
      "(10, 20, 30)\n",
      "Tuple address: 0x333e\n",
      "Val: 0xc0e5\n",
      "Val: 0xc225\n",
      "Val: 0xc365\n",
      "\n",
      "\n"
     ]
    }
   ],
   "source": [
    "my_tuple2 = (10, 20, 30)\n",
    "print(my_tuple2)\n",
    "print_tuple_info(my_tuple2)"
   ]
  },
  {
   "cell_type": "code",
   "execution_count": 43,
   "metadata": {},
   "outputs": [
    {
     "name": "stdout",
     "output_type": "stream",
     "text": [
      "'tuple' object does not support item assignment\n"
     ]
    }
   ],
   "source": [
    "try:\n",
    "    my_tuple2[0] = 10\n",
    "except TypeError as e:\n",
    "    print(e)"
   ]
  },
  {
   "cell_type": "code",
   "execution_count": 44,
   "metadata": {},
   "outputs": [
    {
     "name": "stdout",
     "output_type": "stream",
     "text": [
      "(10, 20, [1])\n",
      "Tuple address: 0x2b3e\n",
      "Val: 0xc0e5\n",
      "Val: 0xc225\n",
      "Val: 0xc47f\n",
      "\n",
      "\n"
     ]
    }
   ],
   "source": [
    "my_list = [1]\n",
    "my_tuple3 = (10, 20, my_list)\n",
    "\n",
    "print(my_tuple3)\n",
    "print_tuple_info(my_tuple3)"
   ]
  },
  {
   "cell_type": "code",
   "execution_count": 45,
   "metadata": {},
   "outputs": [],
   "source": [
    "my_tuple3[2].append(2)"
   ]
  },
  {
   "cell_type": "code",
   "execution_count": 46,
   "metadata": {},
   "outputs": [
    {
     "name": "stdout",
     "output_type": "stream",
     "text": [
      "(10, 20, [1, 2])\n",
      "Tuple address: 0x2b3e\n",
      "Val: 0xc0e5\n",
      "Val: 0xc225\n",
      "Val: 0xc47f\n",
      "\n",
      "\n"
     ]
    }
   ],
   "source": [
    "print(my_tuple3)\n",
    "print_tuple_info(my_tuple3)"
   ]
  },
  {
   "cell_type": "markdown",
   "metadata": {},
   "source": [
    "### Tuple Packing & Unpacking\n"
   ]
  },
  {
   "cell_type": "code",
   "execution_count": 47,
   "metadata": {},
   "outputs": [],
   "source": [
    "def function() -> tuple:\n",
    "    return (10, 42.0, True, None)"
   ]
  },
  {
   "cell_type": "code",
   "execution_count": 48,
   "metadata": {},
   "outputs": [
    {
     "name": "stdout",
     "output_type": "stream",
     "text": [
      "(10, 42.0, True, None)\n"
     ]
    }
   ],
   "source": [
    "tpl = function()\n",
    "print(tpl)"
   ]
  },
  {
   "cell_type": "code",
   "execution_count": 49,
   "metadata": {},
   "outputs": [],
   "source": [
    "my_int, my_float, my_bool, my_none = tpl"
   ]
  },
  {
   "cell_type": "code",
   "execution_count": 50,
   "metadata": {},
   "outputs": [],
   "source": [
    "my_int2, _, my_bool2, _ = tpl"
   ]
  },
  {
   "cell_type": "code",
   "execution_count": 51,
   "metadata": {},
   "outputs": [
    {
     "name": "stdout",
     "output_type": "stream",
     "text": [
      "[True, None]\n"
     ]
    }
   ],
   "source": [
    "my_int3, my_float3, *packed_tpl = tpl\n",
    "print(packed_tpl)"
   ]
  }
 ],
 "metadata": {
  "file_extension": ".py",
  "kernelspec": {
   "display_name": "Python 3.10.4 ('pyUdemy')",
   "language": "python",
   "name": "python3"
  },
  "language_info": {
   "codemirror_mode": {
    "name": "ipython",
    "version": 3
   },
   "file_extension": ".py",
   "mimetype": "text/x-python",
   "name": "python",
   "nbconvert_exporter": "python",
   "pygments_lexer": "ipython3",
   "version": "3.10.4"
  },
  "mimetype": "text/x-python",
  "name": "python",
  "npconvert_exporter": "python",
  "orig_nbformat": 2,
  "pygments_lexer": "ipython3",
  "version": 3,
  "vscode": {
   "interpreter": {
    "hash": "ef4ce19910938c421491e84375c43d450a079a1a865d40a0bc82f335363ab876"
   }
  }
 },
 "nbformat": 4,
 "nbformat_minor": 2
}
