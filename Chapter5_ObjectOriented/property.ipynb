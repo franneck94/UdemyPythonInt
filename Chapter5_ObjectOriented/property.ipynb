{
 "cells": [
  {
   "attachments": {},
   "cell_type": "markdown",
   "metadata": {},
   "source": [
    "### Properties\n"
   ]
  },
  {
   "cell_type": "code",
   "execution_count": 1,
   "metadata": {},
   "outputs": [],
   "source": [
    "class User1:\n",
    "    def __init__(self, name: str, user_id: int) -> None:\n",
    "        self._name = name\n",
    "        self._user_id = user_id\n",
    "\n",
    "    def __repr__(self) -> str:\n",
    "        return f\"{self._name}, {self._user_id}\"\n",
    "\n",
    "    def get_name(self) -> str:\n",
    "        return self._name\n",
    "\n",
    "    def set_name(self, new_name: str) -> None:\n",
    "        self._name = new_name\n",
    "\n",
    "    def del_name(self) -> None:\n",
    "        self._name = \"\"\n"
   ]
  },
  {
   "cell_type": "code",
   "execution_count": 2,
   "metadata": {},
   "outputs": [],
   "source": [
    "class User2:\n",
    "    def __init__(self, name: str, user_id: int) -> None:\n",
    "        self._name = name\n",
    "        self._user_id = user_id\n",
    "\n",
    "    def __repr__(self) -> str:\n",
    "        return f\"{self._name}, {self._user_id}\"\n",
    "\n",
    "    @property\n",
    "    def name(self) -> str:\n",
    "        return self._name\n",
    "\n",
    "    @name.setter\n",
    "    def name(self, new_name: str) -> None:\n",
    "        self._name = new_name\n",
    "\n",
    "    @name.deleter\n",
    "    def name(self) -> None:\n",
    "        self._name = \"\"\n"
   ]
  },
  {
   "cell_type": "code",
   "execution_count": 3,
   "metadata": {},
   "outputs": [
    {
     "name": "stdout",
     "output_type": "stream",
     "text": [
      "Jan, 123\n",
      "Jan\n",
      "Peter, 123\n"
     ]
    }
   ],
   "source": [
    "u1 = User2(\"Jan\", 123)\n",
    "print(u1)\n",
    "print(u1.name)\n",
    "u1.name = \"Peter\"\n",
    "print(u1)\n"
   ]
  }
 ],
 "metadata": {
  "file_extension": ".py",
  "interpreter": {
   "hash": "ef4ce19910938c421491e84375c43d450a079a1a865d40a0bc82f335363ab876"
  },
  "kernelspec": {
   "display_name": "Python 3.10.4 ('pyUdemy')",
   "language": "python",
   "name": "python3"
  },
  "language_info": {
   "codemirror_mode": {
    "name": "ipython",
    "version": 3
   },
   "file_extension": ".py",
   "mimetype": "text/x-python",
   "name": "python",
   "nbconvert_exporter": "python",
   "pygments_lexer": "ipython3",
   "version": "3.11.5"
  },
  "mimetype": "text/x-python",
  "name": "python",
  "npconvert_exporter": "python",
  "orig_nbformat": 2,
  "pygments_lexer": "ipython3",
  "version": 3
 },
 "nbformat": 4,
 "nbformat_minor": 2
}
