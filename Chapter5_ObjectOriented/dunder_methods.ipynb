{
 "cells": [
  {
   "cell_type": "markdown",
   "metadata": {},
   "source": [
    "#### Basic Customizations\n",
    "\n",
    "-   \\_\\_new\\_\\_(self) return a new object (an instance of that class).\n",
    "-   \\_\\_init\\_\\_(self) is called when the object is initialized.\n",
    "-   \\_\\_del\\_\\_(self) for del() function. Called when the object is to be destroyed.\n",
    "-   \\_\\_repr\\_\\_(self) for repr() function. It returns a string to print the object.\n",
    "-   \\_\\_str\\_\\_(self) for str() function. Return a string to print the object.\n",
    "-   \\_\\_bytes\\_\\_(self) for bytes() function. Return a byte object which is the byte string representation.\n",
    "-   \\_\\_format\\_\\_(self) for format() function. Evaluate formatted string literals.\n"
   ]
  },
  {
   "cell_type": "markdown",
   "metadata": {},
   "source": [
    "#### Comparison Operators\n",
    "\n",
    "-   \\_\\_lt\\_\\_(self, anotherObj) for < operator.\n",
    "-   \\_\\_le\\_\\_(self, anotherObj) for <= operator.\n",
    "-   \\_\\_eq\\_\\_(self, anotherObj) for == operator.\n",
    "-   \\_\\_ne\\_\\_(self, anotherObj) for != operator.\n",
    "-   \\_\\_gt\\_\\_(self, anotherObj)for > operator.\n",
    "-   \\_\\_ge\\_\\_(self, anotherObj)for >= operator.\n"
   ]
  },
  {
   "cell_type": "markdown",
   "metadata": {},
   "source": [
    "#### Arithmetic Operators\n",
    "\n",
    "-   \\_\\_add\\_\\_(self, anotherObj) for + operator.\n",
    "-   \\_\\_sub\\_\\_(self, anotherObj) for – operation on object.\n",
    "-   \\_\\_mul\\_\\_(self, anotherObj) for \\* operation on object.\n",
    "-   \\_\\_matmul\\_\\_(self, anotherObj) for @ operator (numpy matrix multiplication).\n",
    "-   \\_\\_truediv\\_\\_(self, anotherObj) for simple / division operation on object.\n",
    "-   \\_\\_floordiv\\_\\_(self, anotherObj) for // floor division operation on object.\n"
   ]
  },
  {
   "cell_type": "markdown",
   "metadata": {},
   "source": [
    "#### Type Conversion\n",
    "\n",
    "-   \\_\\_abs\\_\\_(self) make support for abs() function.\n",
    "-   \\_\\_int\\_\\_(self) support for int() function. Returns the integer value.\n",
    "-   \\_\\_float\\_\\_(self) for float() function support. Returns float equivalent.\n",
    "-   \\_\\_complex\\_\\_(self) for complex() function support. Return complex value.\n",
    "-   \\_\\_round\\_\\_(self, nDigits) for round() function.\n",
    "-   \\_\\_trunc\\_\\_(self) for trunc() function of math module.\n",
    "-   \\_\\_ceil\\_\\_(self) for ceil() function of math module.\n",
    "-   \\_\\_floor\\_\\_(self) for floor() function of math module.\n"
   ]
  },
  {
   "cell_type": "markdown",
   "metadata": {},
   "source": [
    "#### Emulating Container Types\n",
    "\n",
    "-   \\_\\_len\\_\\_(self) for len() function. Returns the total number in any container.\n",
    "-   \\_\\_getitem\\_\\_(self, key) to support index lookup.\n",
    "-   \\_\\_setitem\\_\\_(self, key, value) to support index assignment\n",
    "-   \\_\\_delitem\\_\\_(self, key) for del() function. Delete the value at the index.\n",
    "-   \\_\\_iter\\_\\_(self) returns an iterator when required that iterates all values in the container.\n"
   ]
  },
  {
   "cell_type": "markdown",
   "metadata": {},
   "source": [
    "#### Summary\n",
    "\n",
    "-   Dunder Methods makes our class compatible with inbuilt functions like abs(), len(), str() and many more.\n"
   ]
  }
 ],
 "metadata": {
  "file_extension": ".py",
  "interpreter": {
   "hash": "ef4ce19910938c421491e84375c43d450a079a1a865d40a0bc82f335363ab876"
  },
  "kernelspec": {
   "display_name": "Python 3.10.4 ('pyUdemy')",
   "language": "python",
   "name": "python3"
  },
  "language_info": {
   "codemirror_mode": {
    "name": "ipython",
    "version": 3
   },
   "name": "python",
   "version": "3.10.4"
  },
  "mimetype": "text/x-python",
  "name": "python",
  "npconvert_exporter": "python",
  "orig_nbformat": 2,
  "pygments_lexer": "ipython3",
  "version": 3
 },
 "nbformat": 4,
 "nbformat_minor": 2
}
