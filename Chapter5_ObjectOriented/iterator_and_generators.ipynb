{
 "cells": [
  {
   "cell_type": "code",
   "execution_count": 11,
   "metadata": {},
   "outputs": [],
   "source": [
    "from __future__ import annotations\n",
    "\n",
    "from typing import Any\n"
   ]
  },
  {
   "cell_type": "markdown",
   "metadata": {},
   "source": [
    "### Iterator\n"
   ]
  },
  {
   "cell_type": "code",
   "execution_count": 12,
   "metadata": {},
   "outputs": [
    {
     "name": "stdout",
     "output_type": "stream",
     "text": [
      "1\n",
      "2\n",
      "3\n",
      "4\n"
     ]
    }
   ],
   "source": [
    "my_list = [1, 2, 3, 4]\n",
    "\n",
    "for val in my_list:\n",
    "    print(val)\n"
   ]
  },
  {
   "cell_type": "code",
   "execution_count": 13,
   "metadata": {},
   "outputs": [
    {
     "name": "stdout",
     "output_type": "stream",
     "text": [
      "<list_iterator object at 0x000001C9E4B27BE0> <class 'list_iterator'>\n",
      "1\n",
      "2\n",
      "3\n",
      "4\n",
      "\n"
     ]
    }
   ],
   "source": [
    "my_iter = iter(my_list)\n",
    "\n",
    "print(my_iter, type(my_iter))\n",
    "\n",
    "print(next(my_iter))\n",
    "print(next(my_iter))\n",
    "print(next(my_iter))\n",
    "print(next(my_iter))\n",
    "\n",
    "try:\n",
    "    print(next(my_iter))\n",
    "    print(next(my_iter))\n",
    "except Exception as e:\n",
    "    print(e)\n"
   ]
  },
  {
   "cell_type": "code",
   "execution_count": 14,
   "metadata": {},
   "outputs": [],
   "source": [
    "class PowerOfTwo:\n",
    "    def __init__(self, n: int) -> None:\n",
    "        self.n = n\n",
    "\n",
    "    def __iter__(self) -> PowerOfTwo:\n",
    "        self.current_n = 0\n",
    "        return self\n",
    "\n",
    "    def __next__(self) -> Any:\n",
    "        if self.current_n <= self.n:\n",
    "            current_result = 2**self.current_n\n",
    "            self.current_n += 1\n",
    "            return current_result\n",
    "        raise StopIteration\n"
   ]
  },
  {
   "cell_type": "code",
   "execution_count": 15,
   "metadata": {
    "tags": [
     "outputPrepend",
     "outputPrepend",
     "outputPrepend",
     "outputPrepend",
     "outputPrepend",
     "outputPrepend",
     "outputPrepend",
     "outputPrepend",
     "outputPrepend",
     "outputPrepend",
     "outputPrepend",
     "outputPrepend",
     "outputPrepend",
     "outputPrepend",
     "outputPrepend",
     "outputPrepend",
     "outputPrepend",
     "outputPrepend",
     "outputPrepend",
     "outputPrepend",
     "outputPrepend"
    ]
   },
   "outputs": [
    {
     "name": "stdout",
     "output_type": "stream",
     "text": [
      "1\n",
      "2\n",
      "4\n",
      "8\n",
      "16\n",
      "32\n",
      "64\n",
      "128\n",
      "256\n",
      "512\n",
      "1024\n"
     ]
    }
   ],
   "source": [
    "p = PowerOfTwo(10)\n",
    "\n",
    "for i in p:\n",
    "    print(i)\n"
   ]
  },
  {
   "cell_type": "code",
   "execution_count": 16,
   "metadata": {},
   "outputs": [
    {
     "name": "stdout",
     "output_type": "stream",
     "text": [
      "[1, 2, 4, 8, 16, 32, 64, 128, 256, 512, 1024]\n"
     ]
    }
   ],
   "source": [
    "power_of_twos = [power for power in PowerOfTwo(10)]\n",
    "print(power_of_twos)\n"
   ]
  },
  {
   "cell_type": "markdown",
   "metadata": {},
   "source": [
    "### Generator\n"
   ]
  },
  {
   "cell_type": "markdown",
   "metadata": {},
   "source": [
    "-   Generator: function with at least one yield statement\n",
    "-   Easy to implement, memory efficient, represents infinite stream\n"
   ]
  },
  {
   "cell_type": "code",
   "execution_count": 17,
   "metadata": {},
   "outputs": [],
   "source": [
    "def power_of_two_generator(n: int) -> Any:\n",
    "    current_n = 0\n",
    "    while current_n <= n:\n",
    "        yield 2**current_n\n",
    "        current_n += 1\n"
   ]
  },
  {
   "cell_type": "code",
   "execution_count": 18,
   "metadata": {},
   "outputs": [
    {
     "name": "stdout",
     "output_type": "stream",
     "text": [
      "1\n",
      "2\n",
      "4\n",
      "8\n",
      "16\n",
      "32\n",
      "64\n",
      "128\n",
      "256\n",
      "512\n",
      "1024\n"
     ]
    }
   ],
   "source": [
    "g = power_of_two_generator(10)\n",
    "\n",
    "for i in g:\n",
    "    print(i)\n"
   ]
  },
  {
   "cell_type": "markdown",
   "metadata": {},
   "source": [
    "## Non-exceeding Iterator\n"
   ]
  },
  {
   "cell_type": "code",
   "execution_count": 19,
   "metadata": {},
   "outputs": [],
   "source": [
    "class NamesIterator:\n",
    "    def __init__(self, names):\n",
    "        self.names = names\n",
    "        self.num_names = len(self.names)\n",
    "        self.current_n = 0\n",
    "\n",
    "    def __iter__(self):\n",
    "        self.current_n = 0\n",
    "        return self\n",
    "\n",
    "    def __next__(self):\n",
    "        if self.current_n < self.num_names:\n",
    "            current_result = self.names[self.current_n]\n",
    "            self.current_n += 1\n",
    "            return current_result\n",
    "        else:\n",
    "            self.current_n = 0\n",
    "            current_result = self.names[self.current_n]\n",
    "            self.current_n += 1\n",
    "            return current_result\n"
   ]
  },
  {
   "cell_type": "code",
   "execution_count": 20,
   "metadata": {},
   "outputs": [
    {
     "name": "stdout",
     "output_type": "stream",
     "text": [
      "Jan\n",
      "Peter\n",
      "Dennis\n",
      "Jan\n",
      "Peter\n",
      "Dennis\n",
      "Jan\n"
     ]
    }
   ],
   "source": [
    "names = [\"Jan\", \"Peter\", \"Dennis\"]\n",
    "\n",
    "my_iterator = NamesIterator(names)\n",
    "\n",
    "for i in range(7):\n",
    "    print(next(my_iterator))\n"
   ]
  }
 ],
 "metadata": {
  "file_extension": ".py",
  "interpreter": {
   "hash": "ef4ce19910938c421491e84375c43d450a079a1a865d40a0bc82f335363ab876"
  },
  "kernelspec": {
   "display_name": "Python 3.10.4 ('pyUdemy')",
   "language": "python",
   "name": "python3"
  },
  "language_info": {
   "codemirror_mode": {
    "name": "ipython",
    "version": 3
   },
   "file_extension": ".py",
   "mimetype": "text/x-python",
   "name": "python",
   "nbconvert_exporter": "python",
   "pygments_lexer": "ipython3",
   "version": "3.11.5"
  },
  "mimetype": "text/x-python",
  "name": "python",
  "npconvert_exporter": "python",
  "orig_nbformat": 2,
  "pygments_lexer": "ipython3",
  "version": 3
 },
 "nbformat": 4,
 "nbformat_minor": 2
}
