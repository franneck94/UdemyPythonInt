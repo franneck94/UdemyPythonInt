{
 "cells": [
  {
   "cell_type": "code",
   "execution_count": 36,
   "metadata": {},
   "outputs": [],
   "source": [
    "from dataclasses import dataclass\n",
    "from dataclasses import field"
   ]
  },
  {
   "cell_type": "markdown",
   "metadata": {},
   "source": [
    "### Standard Class"
   ]
  },
  {
   "cell_type": "code",
   "execution_count": 37,
   "metadata": {},
   "outputs": [],
   "source": [
    "class User:\n",
    "    def __init__(self, name: str, age: int):\n",
    "        self.name = name\n",
    "        self.age = age"
   ]
  },
  {
   "cell_type": "code",
   "execution_count": 38,
   "metadata": {},
   "outputs": [
    {
     "name": "stdout",
     "output_type": "stream",
     "text": [
      "<__main__.User object at 0x000001D3C7DE0A00>\n"
     ]
    }
   ],
   "source": [
    "u = User(\"jan\", 27)\n",
    "\n",
    "print(u)"
   ]
  },
  {
   "cell_type": "code",
   "execution_count": 39,
   "metadata": {},
   "outputs": [
    {
     "name": "stdout",
     "output_type": "stream",
     "text": [
      "{'name': 'jan', 'age': 27}\n"
     ]
    }
   ],
   "source": [
    "print(u.__dict__)"
   ]
  },
  {
   "cell_type": "markdown",
   "metadata": {},
   "source": [
    "### DataClass (1)"
   ]
  },
  {
   "cell_type": "code",
   "execution_count": 40,
   "metadata": {},
   "outputs": [],
   "source": [
    "@dataclass\n",
    "class User:\n",
    "    name: str\n",
    "    age: int"
   ]
  },
  {
   "cell_type": "code",
   "execution_count": 41,
   "metadata": {},
   "outputs": [
    {
     "name": "stdout",
     "output_type": "stream",
     "text": [
      "User(name='jan', age=27)\n"
     ]
    }
   ],
   "source": [
    "u1 = User(\"jan\", 27)\n",
    "\n",
    "print(u1)"
   ]
  },
  {
   "cell_type": "code",
   "execution_count": 42,
   "metadata": {},
   "outputs": [
    {
     "name": "stdout",
     "output_type": "stream",
     "text": [
      "{'name': 'jan', 'age': 27}\n",
      "{'name': 'jan', 'age': 27, 'blahblah': 10}\n"
     ]
    }
   ],
   "source": [
    "print(u1.__dict__)\n",
    "u1.blahblah = 10\n",
    "print(u1.__dict__)"
   ]
  },
  {
   "cell_type": "markdown",
   "metadata": {},
   "source": [
    "### DataClass (2)"
   ]
  },
  {
   "cell_type": "code",
   "execution_count": 43,
   "metadata": {},
   "outputs": [],
   "source": [
    "@dataclass(slots=True)\n",
    "class User2:\n",
    "    name: str\n",
    "    age: int"
   ]
  },
  {
   "cell_type": "code",
   "execution_count": 44,
   "metadata": {},
   "outputs": [
    {
     "name": "stdout",
     "output_type": "stream",
     "text": [
      "User2(name='jan', age=27)\n"
     ]
    }
   ],
   "source": [
    "u2 = User2(\"jan\", 27)\n",
    "\n",
    "print(u2)"
   ]
  },
  {
   "cell_type": "code",
   "execution_count": 45,
   "metadata": {},
   "outputs": [],
   "source": [
    "# print(u2.__dict__)"
   ]
  },
  {
   "cell_type": "markdown",
   "metadata": {},
   "source": [
    "### DataClass (3)"
   ]
  },
  {
   "cell_type": "code",
   "execution_count": 46,
   "metadata": {},
   "outputs": [],
   "source": [
    "@dataclass(slots=True)\n",
    "class User3:\n",
    "    name: str\n",
    "    age: int\n",
    "    is_active: bool = False\n",
    "    orders: list[float] = field(\n",
    "        default_factory=list, compare=False, hash=False, repr=False\n",
    "    )\n",
    "\n",
    "    def method(self):\n",
    "        print(self.name)"
   ]
  },
  {
   "cell_type": "code",
   "execution_count": 47,
   "metadata": {},
   "outputs": [
    {
     "name": "stdout",
     "output_type": "stream",
     "text": [
      "User3(name='jan', age=27, is_active=False)\n",
      "2009104058240\n",
      "jan\n"
     ]
    }
   ],
   "source": [
    "u3 = User3(\"jan\", 27)\n",
    "\n",
    "print(u3)\n",
    "print(id(u3.orders))\n",
    "\n",
    "u3.method()"
   ]
  },
  {
   "cell_type": "code",
   "execution_count": 48,
   "metadata": {},
   "outputs": [
    {
     "name": "stdout",
     "output_type": "stream",
     "text": [
      "User3(name='jan', age=27, is_active=False)\n",
      "2009111979072\n",
      "jan\n"
     ]
    }
   ],
   "source": [
    "u4 = User3(\"jan\", 27)\n",
    "\n",
    "print(u4)\n",
    "print(id(u4.orders))\n",
    "\n",
    "u4.method()"
   ]
  }
 ],
 "metadata": {
  "kernelspec": {
   "display_name": "Python 3.10.4 ('pyUdemy')",
   "language": "python",
   "name": "python3"
  },
  "language_info": {
   "codemirror_mode": {
    "name": "ipython",
    "version": 3
   },
   "file_extension": ".py",
   "mimetype": "text/x-python",
   "name": "python",
   "nbconvert_exporter": "python",
   "pygments_lexer": "ipython3",
   "version": "3.10.4"
  },
  "orig_nbformat": 4,
  "vscode": {
   "interpreter": {
    "hash": "ef4ce19910938c421491e84375c43d450a079a1a865d40a0bc82f335363ab876"
   }
  }
 },
 "nbformat": 4,
 "nbformat_minor": 2
}
