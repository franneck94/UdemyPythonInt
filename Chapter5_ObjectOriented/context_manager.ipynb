{
 "cells": [
  {
   "cell_type": "markdown",
   "metadata": {},
   "source": [
    "### Context Managers:\n",
    "\n",
    "```python\n",
    "with ContextManager() as var_name:\n",
    "    pass # do_something\n",
    "```\n",
    "\n",
    "At entering the with-Context, the object gets created (__init__ and __enter__).  \n",
    "At exiting the with-Context, the object calls the __exit__ method."
   ]
  },
  {
   "cell_type": "code",
   "execution_count": 1,
   "metadata": {},
   "outputs": [],
   "source": [
    "class NameHandler:\n",
    "    def __init__(self, name):\n",
    "        self.name = name\n",
    "        print(f\"Creating {self.name}\")\n",
    "\n",
    "    def __enter__(self):\n",
    "        print(f\"Entering with: {self.name}\")\n",
    "        if not isinstance(self.name, str):\n",
    "            raise TypeError\n",
    "        return self\n",
    "\n",
    "    def __exit__(self, exception_type, exception_value, traceback):\n",
    "        print(f\"Exiting with: {self.name}\")"
   ]
  },
  {
   "cell_type": "code",
   "execution_count": 2,
   "metadata": {},
   "outputs": [
    {
     "name": "stdout",
     "output_type": "stream",
     "text": [
      "Creating 2\n",
      "Entering with: 2\n"
     ]
    },
    {
     "ename": "TypeError",
     "evalue": "",
     "output_type": "error",
     "traceback": [
      "\u001b[1;31m---------------------------------------------------------------------------\u001b[0m",
      "\u001b[1;31mTypeError\u001b[0m                                 Traceback (most recent call last)",
      "\u001b[1;32mc:\\Users\\Jan\\OneDrive\\_Coding\\UdemyPythonInt\\Chapter5_ObjectOriented\\context_manager.ipynb Cell 3\u001b[0m in \u001b[0;36m<cell line: 1>\u001b[1;34m()\u001b[0m\n\u001b[1;32m----> <a href='vscode-notebook-cell:/c%3A/Users/Jan/OneDrive/_Coding/UdemyPythonInt/Chapter5_ObjectOriented/context_manager.ipynb#W2sZmlsZQ%3D%3D?line=0'>1</a>\u001b[0m \u001b[39mwith\u001b[39;00m NameHandler(\u001b[39m2\u001b[39m) \u001b[39mas\u001b[39;00m m: \u001b[39m# __init__\u001b[39;00m\n\u001b[0;32m      <a href='vscode-notebook-cell:/c%3A/Users/Jan/OneDrive/_Coding/UdemyPythonInt/Chapter5_ObjectOriented/context_manager.ipynb#W2sZmlsZQ%3D%3D?line=1'>2</a>\u001b[0m     m\u001b[39m.\u001b[39mname \u001b[39m=\u001b[39m \u001b[39m2\u001b[39m\n",
      "\u001b[1;32mc:\\Users\\Jan\\OneDrive\\_Coding\\UdemyPythonInt\\Chapter5_ObjectOriented\\context_manager.ipynb Cell 3\u001b[0m in \u001b[0;36mNameHandler.__enter__\u001b[1;34m(self)\u001b[0m\n\u001b[0;32m      <a href='vscode-notebook-cell:/c%3A/Users/Jan/OneDrive/_Coding/UdemyPythonInt/Chapter5_ObjectOriented/context_manager.ipynb#W2sZmlsZQ%3D%3D?line=6'>7</a>\u001b[0m \u001b[39mprint\u001b[39m(\u001b[39mf\u001b[39m\u001b[39m\"\u001b[39m\u001b[39mEntering with: \u001b[39m\u001b[39m{\u001b[39;00m\u001b[39mself\u001b[39m\u001b[39m.\u001b[39mname\u001b[39m}\u001b[39;00m\u001b[39m\"\u001b[39m)\n\u001b[0;32m      <a href='vscode-notebook-cell:/c%3A/Users/Jan/OneDrive/_Coding/UdemyPythonInt/Chapter5_ObjectOriented/context_manager.ipynb#W2sZmlsZQ%3D%3D?line=7'>8</a>\u001b[0m \u001b[39mif\u001b[39;00m \u001b[39mnot\u001b[39;00m \u001b[39misinstance\u001b[39m(\u001b[39mself\u001b[39m\u001b[39m.\u001b[39mname, \u001b[39mstr\u001b[39m):\n\u001b[1;32m----> <a href='vscode-notebook-cell:/c%3A/Users/Jan/OneDrive/_Coding/UdemyPythonInt/Chapter5_ObjectOriented/context_manager.ipynb#W2sZmlsZQ%3D%3D?line=8'>9</a>\u001b[0m     \u001b[39mraise\u001b[39;00m \u001b[39mTypeError\u001b[39;00m\n\u001b[0;32m     <a href='vscode-notebook-cell:/c%3A/Users/Jan/OneDrive/_Coding/UdemyPythonInt/Chapter5_ObjectOriented/context_manager.ipynb#W2sZmlsZQ%3D%3D?line=9'>10</a>\u001b[0m \u001b[39mreturn\u001b[39;00m \u001b[39mself\u001b[39m\n",
      "\u001b[1;31mTypeError\u001b[0m: "
     ]
    }
   ],
   "source": [
    "with NameHandler(2) as m:  # __init__\n",
    "    m.name = 2  # __enter__\n",
    "# __exit__"
   ]
  }
 ],
 "metadata": {
  "interpreter": {
   "hash": "f7005c152070cabaaf593843feaa8c4a4a04ad569523413e5d5955ceb49c894d"
  },
  "kernelspec": {
   "display_name": "Python 3.10.4 ('pyData')",
   "language": "python",
   "name": "python3"
  },
  "language_info": {
   "codemirror_mode": {
    "name": "ipython",
    "version": 3
   },
   "file_extension": ".py",
   "mimetype": "text/x-python",
   "name": "python",
   "nbconvert_exporter": "python",
   "pygments_lexer": "ipython3",
   "version": "3.10.4"
  },
  "orig_nbformat": 2
 },
 "nbformat": 4,
 "nbformat_minor": 2
}
