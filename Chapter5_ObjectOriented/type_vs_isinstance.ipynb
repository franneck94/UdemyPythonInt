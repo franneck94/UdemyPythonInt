{
 "cells": [
  {
   "cell_type": "code",
   "execution_count": 12,
   "metadata": {},
   "outputs": [],
   "source": [
    "class A:\n",
    "    def __init__(self):\n",
    "        print(\"Init A called!\")\n",
    "        self.a = 1\n",
    "\n",
    "\n",
    "class B(A):\n",
    "    def __init__(self):\n",
    "        super().__init__()\n",
    "        print(\"Init B called!\")\n",
    "        self.b = self.a * 2\n",
    "\n",
    "\n",
    "class C(A):\n",
    "    def __init__(self):\n",
    "        super().__init__()\n",
    "        print(\"Init C called!\")\n",
    "        self.c = self.a / 2\n",
    "\n",
    "\n",
    "class D(B, C):\n",
    "    def __init__(self):\n",
    "        super().__init__()\n",
    "        print(\"Init D called!\")\n",
    "        self.d = self.b + self.c"
   ]
  },
  {
   "cell_type": "code",
   "execution_count": 13,
   "metadata": {},
   "outputs": [
    {
     "name": "stdout",
     "output_type": "stream",
     "text": [
      "Init A called!\n",
      "Init A called!\n",
      "Init B called!\n"
     ]
    }
   ],
   "source": [
    "a = A()\n",
    "b = B()"
   ]
  },
  {
   "cell_type": "code",
   "execution_count": 14,
   "metadata": {},
   "outputs": [
    {
     "data": {
      "text/plain": [
       "__main__.B"
      ]
     },
     "execution_count": 14,
     "metadata": {},
     "output_type": "execute_result"
    }
   ],
   "source": [
    "type(b)"
   ]
  },
  {
   "cell_type": "code",
   "execution_count": 15,
   "metadata": {},
   "outputs": [
    {
     "name": "stdout",
     "output_type": "stream",
     "text": [
      "equal\n"
     ]
    }
   ],
   "source": [
    "if type(b) == B:\n",
    "    print(\"equal\")\n",
    "else:\n",
    "    print(\"not equal\")"
   ]
  },
  {
   "cell_type": "code",
   "execution_count": 16,
   "metadata": {},
   "outputs": [
    {
     "name": "stdout",
     "output_type": "stream",
     "text": [
      "not equal\n"
     ]
    }
   ],
   "source": [
    "if type(b) == A:\n",
    "    print(\"equal\")\n",
    "else:\n",
    "    print(\"not equal\")"
   ]
  },
  {
   "cell_type": "code",
   "execution_count": 17,
   "metadata": {},
   "outputs": [
    {
     "name": "stdout",
     "output_type": "stream",
     "text": [
      "is instance\n"
     ]
    }
   ],
   "source": [
    "if isinstance(b, B):\n",
    "    print(\"is instance\")\n",
    "else:\n",
    "    print(\"not is instance\")"
   ]
  },
  {
   "cell_type": "code",
   "execution_count": 18,
   "metadata": {},
   "outputs": [
    {
     "name": "stdout",
     "output_type": "stream",
     "text": [
      "is instance\n"
     ]
    }
   ],
   "source": [
    "if isinstance(b, A):\n",
    "    print(\"is instance\")\n",
    "else:\n",
    "    print(\"not is instance\")"
   ]
  },
  {
   "cell_type": "code",
   "execution_count": 19,
   "metadata": {},
   "outputs": [
    {
     "name": "stdout",
     "output_type": "stream",
     "text": [
      "not is instance\n"
     ]
    }
   ],
   "source": [
    "if isinstance(A, B):\n",
    "    print(\"is instance\")\n",
    "else:\n",
    "    print(\"not is instance\")"
   ]
  },
  {
   "cell_type": "code",
   "execution_count": 26,
   "metadata": {},
   "outputs": [
    {
     "ename": "TypeError",
     "evalue": "issubclass() arg 1 must be a class",
     "output_type": "error",
     "traceback": [
      "\u001b[1;31m---------------------------------------------------------------------------\u001b[0m",
      "\u001b[1;31mTypeError\u001b[0m                                 Traceback (most recent call last)",
      "\u001b[1;32mc:\\Users\\Jan\\OneDrive\\_Coding\\UdemyPythonInt\\Chapter5_ObjectOriented\\type_vs_isinstance.ipynb Cell 9\u001b[0m in \u001b[0;36m<cell line: 1>\u001b[1;34m()\u001b[0m\n\u001b[1;32m----> <a href='vscode-notebook-cell:/c%3A/Users/Jan/OneDrive/_Coding/UdemyPythonInt/Chapter5_ObjectOriented/type_vs_isinstance.ipynb#X10sZmlsZQ%3D%3D?line=0'>1</a>\u001b[0m \u001b[39mif\u001b[39;00m \u001b[39missubclass\u001b[39;49m(b, (A, \u001b[39mlist\u001b[39;49m, \u001b[39mtuple\u001b[39;49m)):\n\u001b[0;32m      <a href='vscode-notebook-cell:/c%3A/Users/Jan/OneDrive/_Coding/UdemyPythonInt/Chapter5_ObjectOriented/type_vs_isinstance.ipynb#X10sZmlsZQ%3D%3D?line=1'>2</a>\u001b[0m     \u001b[39mprint\u001b[39m(\u001b[39m\"\u001b[39m\u001b[39mis subclass\u001b[39m\u001b[39m\"\u001b[39m)\n\u001b[0;32m      <a href='vscode-notebook-cell:/c%3A/Users/Jan/OneDrive/_Coding/UdemyPythonInt/Chapter5_ObjectOriented/type_vs_isinstance.ipynb#X10sZmlsZQ%3D%3D?line=2'>3</a>\u001b[0m \u001b[39melse\u001b[39;00m:\n",
      "\u001b[1;31mTypeError\u001b[0m: issubclass() arg 1 must be a class"
     ]
    }
   ],
   "source": [
    "if issubclass(B, (A, list, tuple)):\n",
    "    print(\"is subclass\")\n",
    "else:\n",
    "    print(\"is not subclass\")"
   ]
  },
  {
   "cell_type": "code",
   "execution_count": 21,
   "metadata": {},
   "outputs": [
    {
     "name": "stdout",
     "output_type": "stream",
     "text": [
      "is not subclass\n"
     ]
    }
   ],
   "source": [
    "if issubclass(A, B):\n",
    "    print(\"is subclass\")\n",
    "else:\n",
    "    print(\"is not subclass\")"
   ]
  }
 ],
 "metadata": {
  "kernelspec": {
   "display_name": "Python 3.10.4 ('pyUdemy')",
   "language": "python",
   "name": "python3"
  },
  "language_info": {
   "codemirror_mode": {
    "name": "ipython",
    "version": 3
   },
   "file_extension": ".py",
   "mimetype": "text/x-python",
   "name": "python",
   "nbconvert_exporter": "python",
   "pygments_lexer": "ipython3",
   "version": "3.10.4"
  },
  "orig_nbformat": 2,
  "vscode": {
   "interpreter": {
    "hash": "ef4ce19910938c421491e84375c43d450a079a1a865d40a0bc82f335363ab876"
   }
  }
 },
 "nbformat": 4,
 "nbformat_minor": 2
}
